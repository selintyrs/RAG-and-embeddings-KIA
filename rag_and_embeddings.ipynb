{
  "cells": [
    {
      "cell_type": "markdown",
      "metadata": {
        "id": "view-in-github",
        "colab_type": "text"
      },
      "source": [
        "<a href=\"https://colab.research.google.com/github/selintyrs/RAG-and-embeddings-KIA/blob/main/rag_and_embeddings.ipynb\" target=\"_parent\"><img src=\"https://colab.research.google.com/assets/colab-badge.svg\" alt=\"Open In Colab\"/></a>"
      ]
    },
    {
      "cell_type": "markdown",
      "metadata": {
        "id": "sPTe74uOLH_2"
      },
      "source": [
        "# Building a FAISS-Based Vector Store: A Journey Through Data Processing and Visualization\n",
        "\n",
        "In this notebook, you'll learn how to transform raw PDF documents into a searchable vector store using FAISS. We'll go on a journey where we:\n",
        "\n",
        "1. **Read and extract text from PDF files.**\n",
        "2. **Split the text into manageable chunks.**\n",
        "3. **Display tokenization outputs from different tokenizers.**\n",
        "4. **Generate embeddings from the text using a SentenceTransformer.**\n",
        "5. **Store the embeddings in a FAISS index.**\n",
        "6. **Project the embeddings into 2D space using UMAP for visualization.**\n",
        "7. **Visualize the entire process on a scatter plot.**\n",
        "8. **Incect your data into a prompt for a large language model**"
      ]
    },
    {
      "cell_type": "code",
      "source": [
        "!pip install langchain langchain-community faiss-cpu sentence-transformers pypdf python-dotenv groq\n"
      ],
      "metadata": {
        "id": "ii091R4nvZBd"
      },
      "execution_count": null,
      "outputs": []
    },
    {
      "cell_type": "code",
      "execution_count": null,
      "metadata": {
        "id": "83Ukpns1LH_5"
      },
      "outputs": [],
      "source": [
        "import os\n",
        "import tqdm\n",
        "import glob\n",
        "from pypdf import PdfReader\n",
        "from langchain.text_splitter import RecursiveCharacterTextSplitter\n",
        "from sentence_transformers import SentenceTransformer\n",
        "from langchain.text_splitter import SentenceTransformersTokenTextSplitter\n",
        "from langchain_community.embeddings import HuggingFaceEmbeddings  # For generating embeddings for text chunks\n",
        "import faiss\n",
        "import pickle\n",
        "import matplotlib.pyplot as plt\n",
        "import umap.umap_ as umap\n",
        "import numpy as np\n",
        "from dotenv import load_dotenv\n",
        "from groq import Groq\n"
      ]
    },
    {
      "cell_type": "markdown",
      "metadata": {
        "id": "1sPIddozLH_6"
      },
      "source": [
        "## 1. Reading Data from PDFs\n",
        "\n",
        "First, we load PDF files from a directory, extract their text content, and combine it into one large text string."
      ]
    },
    {
      "cell_type": "code",
      "execution_count": null,
      "metadata": {
        "colab": {
          "base_uri": "https://localhost:8080/",
          "height": 209
        },
        "id": "tWG6HakzLH_7",
        "outputId": "e9a7533a-3cff-4594-bc93-f1cc2700e961"
      },
      "outputs": [
        {
          "output_type": "stream",
          "name": "stderr",
          "text": [
            "\r  0%|          | 0/9 [00:00<?, ?it/s]"
          ]
        },
        {
          "output_type": "stream",
          "name": "stdout",
          "text": [
            "<_io.BufferedReader name='data/Z_RL_Richtlinie_KI_bei_Leistungsnachweisen.pdf'>\n"
          ]
        },
        {
          "output_type": "stream",
          "name": "stderr",
          "text": [
            "\r 11%|█         | 1/9 [00:00<00:03,  2.58it/s]"
          ]
        },
        {
          "output_type": "stream",
          "name": "stdout",
          "text": [
            "<_io.BufferedReader name='data/Z_MB_Merkblatt_Verwendung_von_generativer_KI_in_Arbeiten.pdf'>\n"
          ]
        },
        {
          "output_type": "stream",
          "name": "stderr",
          "text": [
            "\r 22%|██▏       | 2/9 [00:01<00:05,  1.36it/s]"
          ]
        },
        {
          "output_type": "stream",
          "name": "stdout",
          "text": [
            "<_io.BufferedReader name='data/Bibliotheksangebot_Bachelorarbeit_HS24FS25.pdf'>\n",
            "<_io.BufferedReader name='data/W_MB_Merkblatt_Bachelorarbeit_BSc.pdf'>\n"
          ]
        },
        {
          "output_type": "stream",
          "name": "stderr",
          "text": [
            "\r 44%|████▍     | 4/9 [00:02<00:02,  1.98it/s]"
          ]
        },
        {
          "output_type": "stream",
          "name": "stdout",
          "text": [
            "<_io.BufferedReader name='data/05_Checkliste_Sprachliche_Formale_Ausarbeitung.pdf'>\n",
            "<_io.BufferedReader name='data/Schwerpunktthemen_fuer_Studenten.pdf'>\n"
          ]
        },
        {
          "output_type": "stream",
          "name": "stderr",
          "text": [
            " 78%|███████▊  | 7/9 [00:02<00:00,  3.37it/s]"
          ]
        },
        {
          "output_type": "stream",
          "name": "stdout",
          "text": [
            "<_io.BufferedReader name='data/02_Merkblatt_Vermeidung-von-Plagiaten_0916.pdf'>\n",
            "<_io.BufferedReader name='data/ZHAW_Zitierleitfaden_DE.pdf'>\n"
          ]
        },
        {
          "output_type": "stream",
          "name": "stderr",
          "text": [
            "\r 89%|████████▉ | 8/9 [00:03<00:00,  1.79it/s]"
          ]
        },
        {
          "output_type": "stream",
          "name": "stdout",
          "text": [
            "<_io.BufferedReader name='data/Z_RL_Richtlinie_Anhang_Deklarationspflicht_KI_bei_Arbeiten.pdf'>\n"
          ]
        },
        {
          "output_type": "stream",
          "name": "stderr",
          "text": [
            "100%|██████████| 9/9 [00:04<00:00,  2.11it/s]\n"
          ]
        },
        {
          "output_type": "execute_result",
          "data": {
            "text/plain": [
              "'Z-RL-Richtlinie  KI bei Leistungsnachweisen  \\nVers'"
            ],
            "application/vnd.google.colaboratory.intrinsic+json": {
              "type": "string"
            }
          },
          "metadata": {},
          "execution_count": 28
        }
      ],
      "source": [
        "### load the pdf from the path\n",
        "glob_path = \"data/*.pdf\"\n",
        "text = \"\"\n",
        "for pdf_path in tqdm.tqdm(glob.glob(glob_path)):\n",
        "    with open(pdf_path, \"rb\") as file:\n",
        "        print(file)\n",
        "        reader = PdfReader(file)\n",
        "         # Extract text from all pages in the PDF\n",
        "        text += \" \".join(page.extract_text() for page in reader.pages if page.extract_text())\n",
        "\n",
        "text[:50]"
      ]
    },
    {
      "cell_type": "markdown",
      "metadata": {
        "id": "VEvAM5w1LH_8"
      },
      "source": [
        "## 2. Splitting the Text into Chunks\n",
        "\n",
        "Large texts can be difficult to work with. We use a text splitter, in this case [RecursiveCharacterTextSplitter](https://python.langchain.com/docs/how_to/recursive_text_splitter/),  to break the full text into smaller, overlapping chunks. This helps preserve context when we later embed the text."
      ]
    },
    {
      "cell_type": "code",
      "execution_count": null,
      "metadata": {
        "id": "Ho_hGbacLH_8"
      },
      "outputs": [],
      "source": [
        "# Create a splitter: 2000 characters per chunk with an overlap of 200 characters\n",
        "splitter = RecursiveCharacterTextSplitter(chunk_size=2000, chunk_overlap=200)\n",
        "# Split the extracted text into manageable chunks\n",
        "chunks = splitter.split_text(text)"
      ]
    },
    {
      "cell_type": "code",
      "execution_count": null,
      "metadata": {
        "colab": {
          "base_uri": "https://localhost:8080/"
        },
        "id": "O68BiZD5LH_9",
        "outputId": "d2f7f8b8-b11b-4000-da98-ba9e328ee418"
      },
      "outputs": [
        {
          "output_type": "stream",
          "name": "stdout",
          "text": [
            "Total chunks: 61\n",
            "Preview of the first chunk: Z-RL-Richtlinie  KI bei Leistungsnachweisen  \n",
            "Version:  3.0.0 gültig ab:  01.03.2025   Seite 1 von 4 \n",
            " \n",
            "Rektorat \n",
            "Ressort Bildung \n",
            "Verwendung generativer KI-Systeme bei Leistungsnachweisen \n",
            "1. Grundla\n"
          ]
        }
      ],
      "source": [
        "print(f\"Total chunks: {len(chunks)}\")\n",
        "print(\"Preview of the first chunk:\", chunks[0][:200])"
      ]
    },
    {
      "cell_type": "markdown",
      "metadata": {
        "id": "rEgnNI6CLH_9"
      },
      "source": [
        "## 3. Tokenizing the Text with Different Tokenizers\n",
        "\n",
        "Before embedding, it's insightful to see how different tokenizers break up our text. Here, we use the tokenizer from the SentenceTransformer model (see [SentenceTransformersTokenTextSplitter](https://python.langchain.com/api_reference/text_splitters/sentence_transformers/langchain_text_splitters.sentence_transformers.SentenceTransformersTokenTextSplitter.html#sentencetransformerstokentextsplitter))."
      ]
    },
    {
      "cell_type": "code",
      "execution_count": null,
      "metadata": {
        "id": "k4YlGDOTLH_9"
      },
      "outputs": [],
      "source": [
        "token_splitter = SentenceTransformersTokenTextSplitter(chunk_overlap=0, tokens_per_chunk=128, model_name=\"paraphrase-multilingual-MiniLM-L12-v2\")"
      ]
    },
    {
      "cell_type": "code",
      "execution_count": null,
      "metadata": {
        "colab": {
          "base_uri": "https://localhost:8080/"
        },
        "id": "NvmzKhYFLH_-",
        "outputId": "0d93f42f-32b9-4719-a1f5-29c7f36fe18b"
      },
      "outputs": [
        {
          "output_type": "stream",
          "name": "stdout",
          "text": [
            "\n",
            "Total chunks: 246\n",
            "Z-RL-Richtlinie KI bei Leistungsnachweisen Version: 3.0.0 gültig ab: 01.03.2025 Seite 1 von 4 Rektorat Ressort Bildung Verwendung generativer KI-Systeme bei Leistungsnachweisen 1. Grundlagen − Rahmenprüfungsordnung für Bachelor- und Masterstudiengänge − Rahmenstudienordnung für Weiterbildungs-Masterstudiengänge − Rahmenstudienordnung für Diplom- und Zertifikatslehrgänge an der ZHAW − Reglement Digitale Prüfungen − Reglement zur Nutzung der ZHAW IT-Infrastruktur − Merkblatt zur Vermeidung von Plagiaten − Checkliste Un\n"
          ]
        }
      ],
      "source": [
        "token_split_texts = []\n",
        "for text in chunks:\n",
        "    token_split_texts += token_splitter.split_text(text)\n",
        "\n",
        "print(f\"\\nTotal chunks: {len(token_split_texts)}\")\n",
        "print(token_split_texts[0])"
      ]
    },
    {
      "cell_type": "code",
      "execution_count": null,
      "metadata": {
        "colab": {
          "base_uri": "https://localhost:8080/"
        },
        "id": "q-mY6Ex2LH_-",
        "outputId": "9d602092-3b12-48c8-b532-31a35e15df28"
      },
      "outputs": [
        {
          "output_type": "stream",
          "name": "stdout",
          "text": [
            "Chunk 0: ['<s>', '▁Z', '-', 'RL', '-', 'Richtlinie', '▁KI', '▁bei', '▁Leistungs', 'nach', 'weise', 'n', '▁Version', ':', '▁3.', '0.0', '▁gültig', '▁ab', ':', '▁01.', '03.20', '25', '▁Seite', '▁1', '▁von', '▁4', '▁Rektor', 'at', '▁Res', 'sort', '▁Bildung', '▁Verwendung', '▁genera', 'ti', 'ver', '▁KI', '-', 'System', 'e', '▁bei', '▁Leistungs', 'nach', 'weise', 'n', '▁1.', '▁Grundlage', 'n', '▁−', '▁Rahmen', 'prüfung', 's', 'ordnung', '▁für', '▁Bachelor', '-', '▁und', '▁Master', 'studie', 'n', 'gänge', '▁−', '▁Rahmen', 'studie', 'n', 'ordnung', '▁für', '▁Weiterbildung', 's', '-', 'Master', 'studie', 'n', 'gänge', '▁−', '▁Rahmen', 'studie', 'n', 'ordnung', '▁für', '▁Diplom', '-', '▁und', '▁Zer', 'tifik', 'ats', 'le', 'hr', 'gänge', '▁an', '▁der', '▁Z', 'HA', 'W', '▁−', '▁Reg', 'lement', '▁Digital', 'e', '▁Prüfung', 'en', '▁−', '▁Reg', 'lement', '▁zur', '▁Nutzung', '▁der', '▁Z', 'HA', 'W', '▁IT', '-', 'In', 'fra', 'struktur', '▁−', '▁Merk', 'blatt', '▁zur', '▁Verme', 'i', 'dung', '▁von', '▁Pla', 'gia', 'ten', '▁−', '▁Check', '</s>']\n",
            "Chunk 1: ['<s>', '▁red', 'lichkeit', '▁2.', '▁Aus', 'gangs', 'lage', '▁Genera', 'tive', '▁System', 'e', ',', '▁welche', '▁auf', '▁Kü', 'n', 'st', 'licher', '▁Intel', 'ligen', 'z', '▁(', 'KI', ')', '▁bas', 'ieren', ',', '▁gehören', '▁zur', '▁neuen', '▁Studien', '-', '▁und', '▁Berufs', 'real', 'ität', '▁von', '▁Lehr', 'enden', ',', '▁Stud', 'ierenden', '▁bzw', '.', '▁Weiterbildung', 's', 'teil', 'nehmen', 'den', '.', '▁Sie', '▁sind', '▁in', '▁immer', '▁besser', 'er', '▁Leistungs', 'fähigkeit', '▁verfügbar', '▁und', '▁können', '▁Lehr', '-', ',', '▁Lern', '-', ',', '▁Administrativ', '-', '▁und', '▁Forschungs', 'prozess', 'e', '▁sinnvoll', '▁und', '▁', 'effizient', '▁unterstützen', '▁sowie', '▁weiteren', 't', 'wick', 'el', 'n', '.', '▁Das', '▁Zusammen', 'spiel', '▁von', '▁Mensch', '▁und', '▁Mas', 'chine', '▁bietet', '▁vielfältig', 'e', '▁Chancen', ',', '▁um', '▁den', '▁Fokus', '▁ver', 'mehr', 't', '▁auf', '▁kreative', ',', '▁problem', 'lösung', 's', 'orientierte', '▁Aktivitäten', '▁zu', '▁len', 'ken', '▁und', '▁die', '▁Leistungs', '-', '▁und', '▁Innovation', 's', 'fähigkeit', '▁an', '▁Hochschule', 'n', '▁zusätzlich', '</s>']\n",
            "Chunk 2: ['<s>', '▁', 'steiger', 'n', '.', '▁Die', '▁Existen', 'z', '▁genera', 'ti', 'ver', '▁KI', '-', 'System', 'e', '▁bringt', '▁jedoch', '▁auch', '▁zahlreiche', '▁Herausforderung', 'en', '▁mit', '▁sich', ',', '▁z', '.', '▁B', '.', '▁et', 'h', 'ische', '▁Risiken', ',', '▁Vor', 'ein', 'genommen', 'heit', '▁(„', 'Bi', 'as', '“', '),', '▁Fal', 'sch', 'information', 'en', '▁(„', 'Hall', 'u', 'zina', 'tionen', '“', ')', '▁sowie', '▁den', '▁mangel', 'nden', '▁Schutz', '▁persönliche', 'r', '▁Daten', '▁und', '▁des', '▁geistige', 'n', '▁Eigen', 'tum', 's', '.', '▁Zudem', '▁stellt', '▁sich', '▁u', '.', '▁a', '.', '▁die', '▁Frage', ',', '▁welche', '▁Voraussetzungen', '▁gegeben', '▁sein', '▁müssen', ',', '▁damit', '▁faire', ',', '▁gültig', 'e', '▁und', '▁ver', 'lässlich', 'e', '▁Leistungs', '-', '▁nach', 'weise', '▁durchgeführt', '▁werden', '▁können', ',', '▁welche', '▁die', '▁Eigen', 'leistung', '▁der', '▁Stud', 'ierenden', '▁bzw', '.', '▁Weiterbildung', 's', 'teil', 'nehmen', 'den', '▁zuverlässig', '▁überprüfen', '▁und', '▁be', 'werten', '.', '▁Die', '▁Hochschule', '▁ist', '▁als', '▁akademi', '</s>']\n",
            "Chunk 3: ['<s>', '▁der', '▁(', 'Mit', '-', ')', 'Ver', 'antwortung', ',', '▁dass', '▁die', '▁Regeln', '▁guter', '▁', 'wissenschaftlich', 'er', '▁Praxis', '▁(', 'wissenschaftlich', 'er', '▁Integr', 'ität', ')', '▁ein', 'gehalten', '▁werden', '.', '▁3.', '▁Gegen', 'stand', '▁und', '▁Zweck', '</s>']\n",
            "Chunk 4: ['<s>', '▁akademi', 'sche', '▁Institution', '▁in', '▁der', '▁(', 'Mit', '-', ')', 'Ver', 'antwortung', ',', '▁dass', '▁die', '▁Regeln', '▁guter', '▁', 'wissenschaftlich', 'er', '▁Praxis', '▁(', 'wissenschaftlich', 'er', '▁Integr', 'ität', ')', '▁ein', 'gehalten', '▁werden', '.', '▁3.', '▁Gegen', 'stand', '▁und', '▁Zweck', '▁Diese', '▁', 'Richtlinie', '▁inklusive', '▁des', '▁An', 'hang', 's', '▁Deklar', 'ations', 'pflicht', '▁KI', '▁bei', '▁Arbeiten', '▁(', 'nach', 'folge', 'nd', '▁«', 'An', 'hang', '»)', '▁erläutert', '▁die', '▁Verwendung', '▁genera', 'ti', 'ver', '▁KI', '-', 'System', 'e', '▁bei', '▁summa', 'tive', 'n', '▁(', 'be', 'wer', '-', '▁tung', 's', 'relevant', 'en', ')', '▁Leistungs', 'nach', 'weise', 'n', '▁und', '▁richtet', '▁sich', '▁an', '▁Mit', 'arbeiten', 'de', '▁der', '▁Z', 'HA', 'W', '.', '▁Sie', '▁soll', '▁insbesondere', '▁Studien', 'leitung', 'en', '▁und', '▁Do', 'z', 'ierenden', '▁(', 'zu', 'sammen', '▁auch', '▁«', 'Ver', 'ant', 'wort', 'liche', '»)', '▁Orient', 'ierung', '▁zu', '▁Fragen', '▁geben', ',', '▁die', '▁in', '▁Zusammenhang', '▁mit', '</s>']\n",
            "Chunk 5: ['<s>', '▁n', '▁KI', '-', 'System', 'en', '▁und', '▁Leistungs', 'nach', 'weise', 'n', '▁auf', 'geworfen', '▁werden', ',', '▁und', '▁eine', '▁hoch', 'schul', 'weit', '▁', 'möglichst', '▁', 'einheit', 'liche', '▁Hand', 'ha', 'bung', '▁sicher', 'stellen', '.', '▁Die', '▁hohe', '▁(', 'En', 't', 'wick', 'lung', 's', '-', ')', 'D', 'yna', 'mik', '▁der', '▁verfügbar', 'en', '▁System', 'e', '▁und', '▁eine', '▁noch', '▁fehlen', 'de', '▁generell', 'e', '▁Rou', 'tine', '▁mit', '▁solchen', '▁KI', '-', 'System', 'en', '▁im', '▁Kon', 'text', '▁von', '▁Leistungs', 'nach', 'weise', 'n', '▁be', 'wirken', '▁jedoch', ',', '▁dass', '▁es', '▁oft', '▁noch', '▁keine', '▁allgemein', 'gül', 't', 'igen', ',', '▁eindeutig', 'en', '▁oder', '▁ab', 'sch', 'li', 'essen', 'den', '▁Antworten', '▁auf', '▁die', '▁auf', 'geworfen', 'en', '▁Fragen', '▁gibt', '.', '▁Die', '▁', 'Richtlinie', '▁setzt', '▁bei', '▁der', '▁aktuellen', '▁Real', 'ität', '▁von', '▁Leistungs', 'nach', 'weise', 'n', '▁im', '▁Hochschul', 'bereich', '▁an', '▁und', '▁bas', 'iert', '▁auf', '▁dem', '▁Wissen', '</s>']\n",
            "Chunk 6: ['<s>', '▁und', '▁Erfahrung', 's', 'werten', '▁zum', '▁Zeitpunkt', '▁der', '▁Er', 'stellung', '▁bzw', '.', '▁Über', 'arbeit', 'ung', '▁der', '▁', 'Richtlinie', '.', '▁Sie', '▁er', 'setzt', '▁daher', '▁nicht', '▁den', '▁länger', 'frist', 'ig', '▁notwendig', 'en', '▁Reflex', 'ions', '-', '▁und', '▁Transforma', 'tions', 'prozess', '▁der', '▁Hochschule', '▁in', '▁Hin', 'blick', '▁auf', '▁die', '▁Unterricht', 's', '-', '▁und', '▁Prüfung', 's', '-', '▁', 'praxis', ',', '▁in', '▁welche', '▁genera', 'tive', '▁KI', '-', 'System', 'e', '▁zu', '▁integr', 'ieren', '▁sein', '▁werden', '.', '▁Z', '-', 'RL', '-', 'Richtlinie', '▁KI', '▁bei', '▁Leistungs', 'nach', 'weise', 'n', '▁Version', ':', '▁3.', '0.0', '▁gültig', '▁ab', ':', '▁01.', '03.20', '25', '▁Seite', '▁2', '▁von', '▁4', '▁Rektor', 'at', '▁Res', 'sort', '▁Bildung', '▁4.', '▁Gel', 'tung', 's', 'bereich', '▁Diese', '▁', 'Richtlinie', '▁gilt', '▁für', '▁sämtliche', '▁Leistungs', 'nach', 'weise', '▁in', '▁der', '▁Lehr', 'e', '▁und', '▁Weiterbildung', '▁an', '▁der', '▁Z', 'HA', 'W', '▁inklusive', '▁Leistungs', 'nach', 'weise', '</s>']\n",
            "Chunk 7: ['<s>', '▁von', '▁Zu', 'lassung', 's', 'verfahren', '.', '▁Sie', '▁gilt', '▁nicht', '▁für', '▁Kooperation', 's', 'studie', 'n', 'gänge', '▁mit', '▁anderen', '▁Hochschule', 'n', '.', '▁5.', '▁Genera', 'tive', '▁KI', '-', 'System', 'e', '▁Genera', 'tive', '▁KI', '-', 'System', 'e', '▁sind', '▁interaktiv', 'e', '▁digitale', '▁Werkzeug', 'e', ',', '▁deren', '▁Technologie', 'n', '▁auf', '</s>']\n",
            "Chunk 8: ['<s>', '▁Kooperation', 's', 'studie', 'n', 'gänge', '▁mit', '▁anderen', '▁Hochschule', 'n', '.', '▁5.', '▁Genera', 'tive', '▁KI', '-', 'System', 'e', '▁Genera', 'tive', '▁KI', '-', 'System', 'e', '▁sind', '▁interaktiv', 'e', '▁digitale', '▁Werkzeug', 'e', ',', '▁deren', '▁Technologie', 'n', '▁auf', '▁maschi', 'nelle', 'm', '▁Lern', 'en', '▁beru', 'hen', '.', '▁Sie', '▁er', 'zeug', 'en', '▁auf', '▁der', '▁Basis', '▁bestehen', 'der', '▁Daten', '▁Inhalte', '▁in', '▁verschiedenen', '▁Medien', 'format', 'en', '▁(«', 'Out', 'put', '»,', '▁z', '.', '▁B', '.', '▁Texte', ',', '▁Bilder', ',', '▁Audio', '▁oder', '▁Video', ')', '▁oder', '▁be', 'arbeiten', '▁ein', 'gegeben', 'e', '▁Daten', '▁und', '▁An', 'weis', 'ungen', '▁(«', 'Pro', 'mp', 'ts', '»)', '▁weiter', '.', '▁Der', '▁er', 'zeug', 'te', '▁Out', 'put', '▁ist', '▁aufgrund', '▁der', '▁system', 'im', 'man', 'enten', '▁Eigenschaften', '▁von', '▁KI', '▁nicht', '▁oder', '▁nur', '▁ein', 'gesch', 'rä', 'nkt', '▁reproduz', 'ier', 'bar', '.', '▁6.', '▁Verwendung', '▁genera', 'ti', 'ver', '▁KI', '-', '</s>']\n",
            "Chunk 9: ['<s>', '▁bei', '▁Leistungs', 'nach', 'weise', 'n', '▁Bei', '▁der', '▁Verwendung', '▁von', '▁KI', '-', 'System', 'en', '▁bei', '▁Leistungs', 'nach', 'weise', 'n', '▁sind', '▁die', '▁Stud', 'ierenden', '▁bzw', '.', '▁Weiterbildung', 's', 'teil', 'nehmen', 'den', '▁sowohl', '▁für', '▁die', '▁gener', 'ierten', '▁Inhalte', '▁als', '▁auch', '▁für', '▁die', '▁Ein', 'haltung', '▁von', '▁ur', 'he', 'ber', 'rechtlichen', '▁Bestimmungen', '▁sowie', '▁die', '▁', 'wissenschaftlich', 'e', '▁Integr', 'ität', '▁ihre', 's', '▁Leistungs', 'nach', 'weise', 's', '▁verantwortlich', '.', '▁Die', '▁für', '▁einen', '▁Leistungs', 'nach', 'weis', '▁erlaubt', 'en', '▁Hilfs', 'mittel', '▁werden', '▁von', '▁den', '▁Verantwortlich', 'en', '▁fest', '-', '▁', 'gelegt', '▁und', '▁den', '▁Stud', 'ierenden', '▁bzw', '.', '▁Weiterbildung', 's', 'teil', 'nehmen', 'den', '▁früh', 'zeit', 'ig', '▁über', '▁einen', '▁dafür', '▁geeignet', 'en', '▁Kanal', '▁bekannt', '▁gegeben', '.', '▁Die', '▁Verwendung', '▁une', 'rla', 'ub', 'ter', '▁Hilfs', 'mittel', '▁gilt', '▁als', '▁Un', 'red', 'lichkeit', '▁und', '▁kann', '▁(', 'Dis', 'zi', 'plin', 'ar', '-', ')', '</s>']\n"
          ]
        }
      ],
      "source": [
        "model_name = \"paraphrase-multilingual-MiniLM-L12-v2\"\n",
        "model = SentenceTransformer(model_name)\n",
        "tokenized_chunks = []\n",
        "for i, text in enumerate(token_split_texts[:10]):\n",
        "    # Tokenize each chunk\n",
        "    encoded_input = model.tokenizer(text, padding=True, truncation=True, max_length=128, return_tensors='pt')\n",
        "    # Convert token IDs back to tokens\n",
        "    tokens = model.tokenizer.convert_ids_to_tokens(encoded_input['input_ids'][0].tolist())\n",
        "    tokenized_chunks.append(tokens)\n",
        "    print(f\"Chunk {i}: {tokens}\")"
      ]
    },
    {
      "cell_type": "code",
      "execution_count": null,
      "metadata": {
        "colab": {
          "base_uri": "https://localhost:8080/"
        },
        "id": "53-DQsSqLH_-",
        "outputId": "4af232a2-7358-4726-fe87-5e3adb877cdc"
      },
      "outputs": [
        {
          "output_type": "stream",
          "name": "stdout",
          "text": [
            "Chunk 0: ['[CLS]', 'Z', '-', 'R', '##L', '-', 'Richtlinie', 'K', '##I', 'bei', 'Leistungs', '##nach', '##weisen', 'Version', ':', '3', '.', '0', '.', '0', 'gültig', 'ab', ':', '01', '.', '03', '.', '202', '##5', 'Seite', '1', 'von', '4', 'Rektor', '##at', 'Ressort', 'Bildung', 'Verwendung', 'gener', '##ativer', 'K', '##I', '-', 'Systeme', 'bei', 'Leistungs', '##nach', '##weisen', '1', '.', 'Grundlagen', '−', 'Rahmen', '##prüfung', '##sor', '##dn', '##ung', 'für', 'Bachelor', '-', 'und', 'Masters', '##tu', '##dien', '##gänge', '−', 'Rahmen', '##studien', '##ordnung', 'für', 'Weiterbildungs', '-', 'Masters', '##tu', '##dien', '##gänge', '−', 'Rahmen', '##studien', '##ordnung', 'für', 'Diplom', '-', 'und', 'Zertif', '##ikat', '##sl', '##ehr', '##gänge', 'an', 'der', 'Z', '##H', '##AW', '−', 'Reg', '##le', '##ment', 'Digital', '##e', 'Prüfungen', '−', 'Reg', '##le', '##ment', 'zur', 'Nutzung', 'der', 'Z', '##H', '##AW', 'IT', '-', 'Infrastruktur', '−', 'Merk', '##blatt', 'zur', 'Vermeidung', 'von', 'Pla', '##gia', '##ten', '−', 'Check', '##liste', 'Un', '[SEP]']\n",
            "Chunk 1: ['[CLS]', 'red', '##lichkeit', '2', '.', 'Ausgangs', '##lage', 'Gener', '##ative', 'Systeme', ',', 'welche', 'auf', 'Künst', '##licher', 'Intelligenz', '(', 'K', '##I', ')', 'basieren', ',', 'gehören', 'zur', 'neuen', 'Studien', '-', 'und', 'Berufs', '##real', '##ität', 'von', 'Lehren', '##den', ',', 'Studierenden', 'bzw', '.', 'Weiterbildungs', '##teil', '##nehmen', '##den', '.', 'Sie', 'sind', 'in', 'immer', 'bessere', '##r', 'Leistungs', '##fähigkeit', 'verfügbar', 'und', 'können', 'Lehr', '-', ',', 'Lern', '-', ',', 'Administrat', '##iv', '-', 'und', 'Forschungs', '##prozess', '##e', 'sinnvoll', 'und', 'effizient', 'unterstützen', 'sowie', 'weiterentwick', '##eln', '.', 'Das', 'Zusammenspiel', 'von', 'Mensch', 'und', 'Maschine', 'bietet', 'vielfältige', 'Chancen', ',', 'um', 'den', 'Fokus', 'vermehrt', 'auf', 'kre', '##ative', ',', 'problem', '##lösung', '##sor', '##ient', '##ierte', 'Aktivitäten', 'zu', 'lenken', 'und', 'die', 'Leistungs', '-', 'und', 'Innovations', '##fähigkeit', 'an', 'Hochschulen', 'zusätzlich', 'zu', '[SEP]']\n",
            "Chunk 2: ['[CLS]', 'steigern', '.', 'Die', 'Existenz', 'gener', '##ativer', 'K', '##I', '-', 'Systeme', 'bringt', 'jedoch', 'auch', 'zahlreiche', 'Herausforderung', '##en', 'mit', 'sich', ',', 'z', '.', 'B', '.', 'eth', '##ische', 'Risiken', ',', 'Vor', '##eing', '##en', '##ommen', '##heit', '(', '„', 'Bi', '##as', '“', ')', ',', 'Falsch', '##informationen', '(', '„', 'Hall', '##uz', '##ina', '##tionen', '“', ')', 'sowie', 'den', 'mangelnde', '##n', 'Schutz', 'persönlicher', 'Daten', 'und', 'des', 'geistigen', 'Eigentums', '.', 'Zudem', 'stellt', 'sich', 'u', '.', 'a', '.', 'die', 'Frage', ',', 'welche', 'Voraussetzungen', 'gegeben', 'sein', 'müssen', ',', 'damit', 'fair', '##e', ',', 'gültige', 'und', 'verläss', '##liche', 'Leistungs', '-', 'nachweis', '##e', 'durchgeführt', 'werden', 'können', ',', 'welche', 'die', 'Eigen', '##leistung', 'der', 'Studierenden', 'bzw', '.', 'Weiterbildungs', '##teil', '##nehmen', '##den', 'zuverlässig', 'überprüfen', 'und', 'bewerten', '.', 'Die', 'Hochschule', 'ist', 'als', 'akadem', '##ische', 'Institution', 'in', '[SEP]']\n",
            "Chunk 3: ['[CLS]', 'der', '(', 'Mit', '-', ')', 'Verantwortung', ',', 'dass', 'die', 'Regeln', 'guter', 'wissenschaft', '##licher', 'Praxis', '(', 'wissenschaft', '##licher', 'Integr', '##ität', ')', 'eingehalten', 'werden', '.', '3', '.', 'Gegenstand', 'und', 'Zweck', '[SEP]']\n",
            "Chunk 4: ['[CLS]', 'akadem', '##ische', 'Institution', 'in', 'der', '(', 'Mit', '-', ')', 'Verantwortung', ',', 'dass', 'die', 'Regeln', 'guter', 'wissenschaft', '##licher', 'Praxis', '(', 'wissenschaft', '##licher', 'Integr', '##ität', ')', 'eingehalten', 'werden', '.', '3', '.', 'Gegenstand', 'und', 'Zweck', 'Diese', 'Richtlinie', 'inklusive', 'des', 'Anhang', '##s', 'Dek', '##lar', '##ations', '##pflicht', 'K', '##I', 'bei', 'Arbeiten', '(', 'nach', '##folgend', '«', 'Anhang', '»', ')', 'erläutert', 'die', 'Verwendung', 'gener', '##ativer', 'K', '##I', '-', 'Systeme', 'bei', 'su', '##mm', '##ativen', '(', 'bew', '##er', '-', 'tun', '##gs', '##rel', '##ev', '##anten', ')', 'Leistungs', '##nach', '##weisen', 'und', 'richtet', 'sich', 'an', 'Mitarbeit', '##ende', 'der', 'Z', '##H', '##AW', '.', 'Sie', 'soll', 'insbesondere', 'Studien', '##leitungen', 'und', 'Do', '##zier', '##enden', '(', 'zusammen', 'auch', '«', 'Verantwort', '##liche', '»', ')', 'Orientierung', 'zu', 'Fragen', 'geben', ',', 'die', 'in', 'Zusammenhang', 'mit', 'gener', '##ative', '[SEP]']\n",
            "Chunk 5: ['[CLS]', 'n', 'K', '##I', '-', 'Systemen', 'und', 'Leistungs', '##nach', '##weisen', 'aufgew', '##orfen', 'werden', ',', 'und', 'eine', 'hoch', '##schul', '##weit', 'möglichst', 'einheitliche', 'Handhabung', 'sicherstellen', '.', 'Die', 'hohe', '(', 'Entwicklungs', '-', ')', 'Dynamik', 'der', 'verfügbaren', 'Systeme', 'und', 'eine', 'noch', 'fehlende', 'generell', '##e', 'Rout', '##ine', 'mit', 'solchen', 'K', '##I', '-', 'Systemen', 'im', 'Kontext', 'von', 'Leistungs', '##nach', '##weisen', 'bewirken', 'jedoch', ',', 'dass', 'es', 'oft', 'noch', 'keine', 'allgemein', '##gültig', '##en', ',', 'eindeutig', '##en', 'oder', 'absch', '##liessen', '##den', 'Antworten', 'auf', 'die', 'aufgew', '##orfen', '##en', 'Fragen', 'gibt', '.', 'Die', 'Richtlinie', 'setzt', 'bei', 'der', 'aktuellen', 'Realität', 'von', 'Leistungs', '##nach', '##weisen', 'im', 'Hochschul', '##bereich', 'an', 'und', 'basiert', 'auf', 'dem', 'Wissens', '##stand', '[SEP]']\n",
            "Chunk 6: ['[CLS]', 'und', 'Erfahrungs', '##werten', 'zum', 'Zeitpunkt', 'der', 'Erstellung', 'bzw', '.', 'Über', '##arbeitung', 'der', 'Richtlinie', '.', 'Sie', 'ersetzt', 'daher', 'nicht', 'den', 'länger', '##fristig', 'notwendigen', 'Reflex', '##ions', '-', 'und', 'Trans', '##formations', '##prozess', 'der', 'Hochschule', 'in', 'Hinblick', 'auf', 'die', 'Unterrichts', '-', 'und', 'Prüfungs', '-', 'pra', '##xis', ',', 'in', 'welche', 'gener', '##ative', 'K', '##I', '-', 'Systeme', 'zu', 'integrieren', 'sein', 'werden', '.', 'Z', '-', 'R', '##L', '-', 'Richtlinie', 'K', '##I', 'bei', 'Leistungs', '##nach', '##weisen', 'Version', ':', '3', '.', '0', '.', '0', 'gültig', 'ab', ':', '01', '.', '03', '.', '202', '##5', 'Seite', '2', 'von', '4', 'Rektor', '##at', 'Ressort', 'Bildung', '4', '.', 'Gelt', '##ungsbereich', 'Diese', 'Richtlinie', 'gilt', 'für', 'sämtliche', 'Leistungs', '##nach', '##weise', 'in', 'der', 'Lehre', 'und', 'Weiterbildung', 'an', 'der', 'Z', '##H', '##AW', 'inklusive', 'Leistungs', '##nach', '##weise', 'im', 'Rahmen', '[SEP]']\n",
            "Chunk 7: ['[CLS]', 'von', 'Zulassungs', '##verfahren', '.', 'Sie', 'gilt', 'nicht', 'für', 'Kooperations', '##studien', '##gänge', 'mit', 'anderen', 'Hochschulen', '.', '5', '.', 'Gener', '##ative', 'K', '##I', '-', 'Systeme', 'Gener', '##ative', 'K', '##I', '-', 'Systeme', 'sind', 'inter', '##aktive', 'digitale', 'Werkzeuge', ',', 'deren', 'Technologien', 'auf', '[SEP]']\n",
            "Chunk 8: ['[CLS]', 'Kooperations', '##studien', '##gänge', 'mit', 'anderen', 'Hochschulen', '.', '5', '.', 'Gener', '##ative', 'K', '##I', '-', 'Systeme', 'Gener', '##ative', 'K', '##I', '-', 'Systeme', 'sind', 'inter', '##aktive', 'digitale', 'Werkzeuge', ',', 'deren', 'Technologien', 'auf', 'ma', '##schine', '##lle', '##m', 'Lernen', 'beruhen', '.', 'Sie', 'erzeugen', 'auf', 'der', 'Basis', 'bestehende', '##r', 'Daten', 'Inhalte', 'in', 'verschiedenen', 'Medien', '##formate', '##n', '(', '«', 'Out', '##put', '»', ',', 'z', '.', 'B', '.', 'Texte', ',', 'Bilder', ',', 'Audio', 'oder', 'Video', ')', 'oder', 'bearbeiten', 'einge', '##geben', '##e', 'Daten', 'und', 'Anweisungen', '(', '«', 'Prom', '##pt', '##s', '»', ')', 'weiter', '.', 'Der', 'erzeugt', '##e', 'Out', '##put', 'ist', 'aufgrund', 'der', 'system', '##imm', '##anen', '##ten', 'Eigenschaften', 'von', 'K', '##I', 'nicht', 'oder', 'nur', 'eingeschränkt', 're', '##produz', '##ierbar', '.', '6', '.', 'Verwendung', 'gener', '##ativer', 'K', '##I', '-', 'Systeme', '[SEP]']\n",
            "Chunk 9: ['[CLS]', 'bei', 'Leistungs', '##nach', '##weisen', 'Bei', 'der', 'Verwendung', 'von', 'K', '##I', '-', 'Systemen', 'bei', 'Leistungs', '##nach', '##weisen', 'sind', 'die', 'Studierenden', 'bzw', '.', 'Weiterbildungs', '##teil', '##nehmen', '##den', 'sowohl', 'für', 'die', 'gener', '##ierten', 'Inhalte', 'als', 'auch', 'für', 'die', 'Einhaltung', 'von', 'ur', '##heber', '##rechtlichen', 'Bestimmungen', 'sowie', 'die', 'wissenschaft', '##liche', 'Integr', '##ität', 'ihres', 'Leistungs', '##nach', '##weise', '##s', 'verantwortlich', '.', 'Die', 'für', 'einen', 'Leistungs', '##nach', '##weis', 'erlaubte', '##n', 'Hilfsmittel', 'werden', 'von', 'den', 'Verantwort', '##lichen', 'fest', '-', 'gelegt', 'und', 'den', 'Studierenden', 'bzw', '.', 'Weiterbildungs', '##teil', '##nehmen', '##den', 'frühzeitig', 'über', 'einen', 'dafür', 'geeigneten', 'Kanal', 'bekannt', 'gegeben', '.', 'Die', 'Verwendung', 'uner', '##laubt', '##er', 'Hilfsmittel', 'gilt', 'als', 'Un', '##red', '##lichkeit', 'und', 'kann', '(', 'Disziplin', '##ar', '-', ')', 'Mass', '[SEP]']\n"
          ]
        }
      ],
      "source": [
        "model_name = \"Sahajtomar/German-semantic\"\n",
        "model = SentenceTransformer(model_name)\n",
        "tokenized_chunks = []\n",
        "for i, text in enumerate(token_split_texts[:10]):\n",
        "    # Tokenize each chunk\n",
        "    encoded_input = model.tokenizer(text, padding=True, truncation=True, max_length=128, return_tensors='pt')\n",
        "    # Convert token IDs back to tokens\n",
        "    tokens = model.tokenizer.convert_ids_to_tokens(encoded_input['input_ids'][0].tolist())\n",
        "    tokenized_chunks.append(tokens)\n",
        "    print(f\"Chunk {i}: {tokens}\")"
      ]
    },
    {
      "cell_type": "markdown",
      "metadata": {
        "id": "dkUNpMH1LH__"
      },
      "source": [
        "## 4. Generating Embeddings for Each Chunk\n",
        "\n",
        "Now we convert each text chunk into a numerical embedding that captures its semantic meaning. These embeddings will be used for similarity search."
      ]
    },
    {
      "cell_type": "code",
      "execution_count": null,
      "metadata": {
        "id": "n3dXXB8FLH__"
      },
      "outputs": [],
      "source": [
        "embeddings = HuggingFaceEmbeddings(model_name=\"paraphrase-multilingual-MiniLM-L12-v2\")\n",
        "chunk_embeddings = model.encode(token_split_texts, convert_to_numpy=True)"
      ]
    },
    {
      "cell_type": "markdown",
      "metadata": {
        "id": "Kau_qyMILH__"
      },
      "source": [
        "## 5. Building a FAISS Vector Store\n",
        "\n",
        "FAISS is a powerful library for efficient similarity search. Here, we build an index from our embeddings. Remember, FAISS only stores the numerical vectors so we must keep our original text mapping separately."
      ]
    },
    {
      "cell_type": "code",
      "execution_count": null,
      "metadata": {
        "colab": {
          "base_uri": "https://localhost:8080/"
        },
        "id": "cyPlrXJsLIAA",
        "outputId": "f696a4be-e8f3-444f-ba04-22f27625f174"
      },
      "outputs": [
        {
          "output_type": "stream",
          "name": "stdout",
          "text": [
            "1024\n"
          ]
        }
      ],
      "source": [
        "d = chunk_embeddings.shape[1]\n",
        "print(d)"
      ]
    },
    {
      "cell_type": "code",
      "execution_count": null,
      "metadata": {
        "colab": {
          "base_uri": "https://localhost:8080/"
        },
        "id": "LhgCd92SLIAA",
        "outputId": "d63641e6-c86e-439c-ab44-237bde7db353"
      },
      "outputs": [
        {
          "output_type": "stream",
          "name": "stdout",
          "text": [
            "Number of embeddings in FAISS index: 246\n"
          ]
        }
      ],
      "source": [
        "index = faiss.IndexFlatL2(d)\n",
        "index.add(chunk_embeddings)\n",
        "print(\"Number of embeddings in FAISS index:\", index.ntotal)"
      ]
    },
    {
      "cell_type": "code",
      "execution_count": null,
      "metadata": {
        "id": "lNfri_hOLIAA"
      },
      "outputs": [],
      "source": [
        "if not os.path.exists('faiss'):\n",
        "    os.makedirs('faiss')\n",
        "\n",
        "faiss.write_index(index, \"faiss/faiss_index.index\")\n",
        "with open(\"faiss/chunks_mapping.pkl\", \"wb\") as f:\n",
        "    pickle.dump(chunks, f)"
      ]
    },
    {
      "cell_type": "code",
      "execution_count": null,
      "metadata": {
        "colab": {
          "base_uri": "https://localhost:8080/"
        },
        "id": "rrDtmHUyLIAB",
        "outputId": "c3251eb3-870c-4506-b795-4b5f429802b5"
      },
      "outputs": [
        {
          "output_type": "stream",
          "name": "stdout",
          "text": [
            "61\n",
            "246\n"
          ]
        }
      ],
      "source": [
        "index_2 = faiss.read_index(\"faiss/faiss_index.index\")\n",
        "with open(\"faiss/chunks_mapping.pkl\", \"rb\") as f:\n",
        "    token_split_texts_2 = pickle.load(f)\n",
        "print(len(token_split_texts_2))\n",
        "print(len(token_split_texts))"
      ]
    },
    {
      "cell_type": "markdown",
      "metadata": {
        "id": "QBK3w_UxLIAB"
      },
      "source": [
        "## 6. Projecting Embeddings with UMAP\n",
        "\n",
        "To visualize high-dimensional embeddings, we use UMAP to project them into 2D space. You can project both the entire dataset and individual query embeddings."
      ]
    },
    {
      "cell_type": "code",
      "execution_count": null,
      "metadata": {
        "colab": {
          "base_uri": "https://localhost:8080/"
        },
        "id": "gCYlR3jvLIAB",
        "outputId": "9436d89a-46b4-4847-e2d2-3a50ba150b87"
      },
      "outputs": [
        {
          "output_type": "stream",
          "name": "stderr",
          "text": [
            "/usr/local/lib/python3.11/dist-packages/sklearn/utils/deprecation.py:151: FutureWarning: 'force_all_finite' was renamed to 'ensure_all_finite' in 1.6 and will be removed in 1.8.\n",
            "  warnings.warn(\n",
            "/usr/local/lib/python3.11/dist-packages/umap/umap_.py:1952: UserWarning: n_jobs value 1 overridden to 1 by setting random_state. Use no seed for parallelism.\n",
            "  warn(\n"
          ]
        }
      ],
      "source": [
        "# Fit UMAP on the full dataset embeddings\n",
        "umap_transform = umap.UMAP(random_state=0, transform_seed=0).fit(chunk_embeddings)\n",
        "\n",
        "def project_embeddings(embeddings, umap_transform):\n",
        "    \"\"\"\n",
        "    Project a set of embeddings using a pre-fitted UMAP transform.\n",
        "    \"\"\"\n",
        "    umap_embeddings = np.empty((len(embeddings), 2))\n",
        "    for i, embedding in enumerate(tqdm.tqdm(embeddings, desc=\"Projecting Embeddings\")):\n",
        "        umap_embeddings[i] = umap_transform.transform([embedding])\n",
        "    return umap_embeddings\n"
      ]
    },
    {
      "cell_type": "code",
      "execution_count": null,
      "metadata": {
        "colab": {
          "base_uri": "https://localhost:8080/"
        },
        "id": "nFUKW2mVLIAC",
        "outputId": "27035291-2f8c-43c5-acfd-6400000cb17b"
      },
      "outputs": [
        {
          "output_type": "stream",
          "name": "stderr",
          "text": [
            "Projecting Embeddings:   0%|          | 0/246 [00:00<?, ?it/s]/usr/local/lib/python3.11/dist-packages/sklearn/utils/deprecation.py:151: FutureWarning: 'force_all_finite' was renamed to 'ensure_all_finite' in 1.6 and will be removed in 1.8.\n",
            "  warnings.warn(\n",
            "/usr/local/lib/python3.11/dist-packages/sklearn/utils/deprecation.py:151: FutureWarning: 'force_all_finite' was renamed to 'ensure_all_finite' in 1.6 and will be removed in 1.8.\n",
            "  warnings.warn(\n",
            "/usr/local/lib/python3.11/dist-packages/sklearn/utils/deprecation.py:151: FutureWarning: 'force_all_finite' was renamed to 'ensure_all_finite' in 1.6 and will be removed in 1.8.\n",
            "  warnings.warn(\n",
            "/usr/local/lib/python3.11/dist-packages/sklearn/utils/deprecation.py:151: FutureWarning: 'force_all_finite' was renamed to 'ensure_all_finite' in 1.6 and will be removed in 1.8.\n",
            "  warnings.warn(\n",
            "/usr/local/lib/python3.11/dist-packages/sklearn/utils/deprecation.py:151: FutureWarning: 'force_all_finite' was renamed to 'ensure_all_finite' in 1.6 and will be removed in 1.8.\n",
            "  warnings.warn(\n",
            "/usr/local/lib/python3.11/dist-packages/sklearn/utils/deprecation.py:151: FutureWarning: 'force_all_finite' was renamed to 'ensure_all_finite' in 1.6 and will be removed in 1.8.\n",
            "  warnings.warn(\n",
            "/usr/local/lib/python3.11/dist-packages/sklearn/utils/deprecation.py:151: FutureWarning: 'force_all_finite' was renamed to 'ensure_all_finite' in 1.6 and will be removed in 1.8.\n",
            "  warnings.warn(\n",
            "/usr/local/lib/python3.11/dist-packages/sklearn/utils/deprecation.py:151: FutureWarning: 'force_all_finite' was renamed to 'ensure_all_finite' in 1.6 and will be removed in 1.8.\n",
            "  warnings.warn(\n",
            "/usr/local/lib/python3.11/dist-packages/sklearn/utils/deprecation.py:151: FutureWarning: 'force_all_finite' was renamed to 'ensure_all_finite' in 1.6 and will be removed in 1.8.\n",
            "  warnings.warn(\n",
            "/usr/local/lib/python3.11/dist-packages/sklearn/utils/deprecation.py:151: FutureWarning: 'force_all_finite' was renamed to 'ensure_all_finite' in 1.6 and will be removed in 1.8.\n",
            "  warnings.warn(\n",
            "/usr/local/lib/python3.11/dist-packages/sklearn/utils/deprecation.py:151: FutureWarning: 'force_all_finite' was renamed to 'ensure_all_finite' in 1.6 and will be removed in 1.8.\n",
            "  warnings.warn(\n",
            "/usr/local/lib/python3.11/dist-packages/sklearn/utils/deprecation.py:151: FutureWarning: 'force_all_finite' was renamed to 'ensure_all_finite' in 1.6 and will be removed in 1.8.\n",
            "  warnings.warn(\n",
            "/usr/local/lib/python3.11/dist-packages/sklearn/utils/deprecation.py:151: FutureWarning: 'force_all_finite' was renamed to 'ensure_all_finite' in 1.6 and will be removed in 1.8.\n",
            "  warnings.warn(\n",
            "/usr/local/lib/python3.11/dist-packages/sklearn/utils/deprecation.py:151: FutureWarning: 'force_all_finite' was renamed to 'ensure_all_finite' in 1.6 and will be removed in 1.8.\n",
            "  warnings.warn(\n",
            "/usr/local/lib/python3.11/dist-packages/sklearn/utils/deprecation.py:151: FutureWarning: 'force_all_finite' was renamed to 'ensure_all_finite' in 1.6 and will be removed in 1.8.\n",
            "  warnings.warn(\n",
            "/usr/local/lib/python3.11/dist-packages/sklearn/utils/deprecation.py:151: FutureWarning: 'force_all_finite' was renamed to 'ensure_all_finite' in 1.6 and will be removed in 1.8.\n",
            "  warnings.warn(\n",
            "/usr/local/lib/python3.11/dist-packages/sklearn/utils/deprecation.py:151: FutureWarning: 'force_all_finite' was renamed to 'ensure_all_finite' in 1.6 and will be removed in 1.8.\n",
            "  warnings.warn(\n",
            "/usr/local/lib/python3.11/dist-packages/sklearn/utils/deprecation.py:151: FutureWarning: 'force_all_finite' was renamed to 'ensure_all_finite' in 1.6 and will be removed in 1.8.\n",
            "  warnings.warn(\n",
            "/usr/local/lib/python3.11/dist-packages/sklearn/utils/deprecation.py:151: FutureWarning: 'force_all_finite' was renamed to 'ensure_all_finite' in 1.6 and will be removed in 1.8.\n",
            "  warnings.warn(\n",
            "/usr/local/lib/python3.11/dist-packages/sklearn/utils/deprecation.py:151: FutureWarning: 'force_all_finite' was renamed to 'ensure_all_finite' in 1.6 and will be removed in 1.8.\n",
            "  warnings.warn(\n",
            "/usr/local/lib/python3.11/dist-packages/sklearn/utils/deprecation.py:151: FutureWarning: 'force_all_finite' was renamed to 'ensure_all_finite' in 1.6 and will be removed in 1.8.\n",
            "  warnings.warn(\n",
            "/usr/local/lib/python3.11/dist-packages/sklearn/utils/deprecation.py:151: FutureWarning: 'force_all_finite' was renamed to 'ensure_all_finite' in 1.6 and will be removed in 1.8.\n",
            "  warnings.warn(\n",
            "/usr/local/lib/python3.11/dist-packages/sklearn/utils/deprecation.py:151: FutureWarning: 'force_all_finite' was renamed to 'ensure_all_finite' in 1.6 and will be removed in 1.8.\n",
            "  warnings.warn(\n",
            "/usr/local/lib/python3.11/dist-packages/sklearn/utils/deprecation.py:151: FutureWarning: 'force_all_finite' was renamed to 'ensure_all_finite' in 1.6 and will be removed in 1.8.\n",
            "  warnings.warn(\n",
            "/usr/local/lib/python3.11/dist-packages/sklearn/utils/deprecation.py:151: FutureWarning: 'force_all_finite' was renamed to 'ensure_all_finite' in 1.6 and will be removed in 1.8.\n",
            "  warnings.warn(\n",
            "/usr/local/lib/python3.11/dist-packages/sklearn/utils/deprecation.py:151: FutureWarning: 'force_all_finite' was renamed to 'ensure_all_finite' in 1.6 and will be removed in 1.8.\n",
            "  warnings.warn(\n",
            "/usr/local/lib/python3.11/dist-packages/sklearn/utils/deprecation.py:151: FutureWarning: 'force_all_finite' was renamed to 'ensure_all_finite' in 1.6 and will be removed in 1.8.\n",
            "  warnings.warn(\n",
            "/usr/local/lib/python3.11/dist-packages/sklearn/utils/deprecation.py:151: FutureWarning: 'force_all_finite' was renamed to 'ensure_all_finite' in 1.6 and will be removed in 1.8.\n",
            "  warnings.warn(\n",
            "/usr/local/lib/python3.11/dist-packages/sklearn/utils/deprecation.py:151: FutureWarning: 'force_all_finite' was renamed to 'ensure_all_finite' in 1.6 and will be removed in 1.8.\n",
            "  warnings.warn(\n",
            "/usr/local/lib/python3.11/dist-packages/sklearn/utils/deprecation.py:151: FutureWarning: 'force_all_finite' was renamed to 'ensure_all_finite' in 1.6 and will be removed in 1.8.\n",
            "  warnings.warn(\n",
            "/usr/local/lib/python3.11/dist-packages/sklearn/utils/deprecation.py:151: FutureWarning: 'force_all_finite' was renamed to 'ensure_all_finite' in 1.6 and will be removed in 1.8.\n",
            "  warnings.warn(\n",
            "/usr/local/lib/python3.11/dist-packages/sklearn/utils/deprecation.py:151: FutureWarning: 'force_all_finite' was renamed to 'ensure_all_finite' in 1.6 and will be removed in 1.8.\n",
            "  warnings.warn(\n",
            "/usr/local/lib/python3.11/dist-packages/sklearn/utils/deprecation.py:151: FutureWarning: 'force_all_finite' was renamed to 'ensure_all_finite' in 1.6 and will be removed in 1.8.\n",
            "  warnings.warn(\n",
            "/usr/local/lib/python3.11/dist-packages/sklearn/utils/deprecation.py:151: FutureWarning: 'force_all_finite' was renamed to 'ensure_all_finite' in 1.6 and will be removed in 1.8.\n",
            "  warnings.warn(\n",
            "/usr/local/lib/python3.11/dist-packages/sklearn/utils/deprecation.py:151: FutureWarning: 'force_all_finite' was renamed to 'ensure_all_finite' in 1.6 and will be removed in 1.8.\n",
            "  warnings.warn(\n",
            "/usr/local/lib/python3.11/dist-packages/sklearn/utils/deprecation.py:151: FutureWarning: 'force_all_finite' was renamed to 'ensure_all_finite' in 1.6 and will be removed in 1.8.\n",
            "  warnings.warn(\n",
            "/usr/local/lib/python3.11/dist-packages/sklearn/utils/deprecation.py:151: FutureWarning: 'force_all_finite' was renamed to 'ensure_all_finite' in 1.6 and will be removed in 1.8.\n",
            "  warnings.warn(\n",
            "/usr/local/lib/python3.11/dist-packages/sklearn/utils/deprecation.py:151: FutureWarning: 'force_all_finite' was renamed to 'ensure_all_finite' in 1.6 and will be removed in 1.8.\n",
            "  warnings.warn(\n",
            "/usr/local/lib/python3.11/dist-packages/sklearn/utils/deprecation.py:151: FutureWarning: 'force_all_finite' was renamed to 'ensure_all_finite' in 1.6 and will be removed in 1.8.\n",
            "  warnings.warn(\n",
            "/usr/local/lib/python3.11/dist-packages/sklearn/utils/deprecation.py:151: FutureWarning: 'force_all_finite' was renamed to 'ensure_all_finite' in 1.6 and will be removed in 1.8.\n",
            "  warnings.warn(\n",
            "/usr/local/lib/python3.11/dist-packages/sklearn/utils/deprecation.py:151: FutureWarning: 'force_all_finite' was renamed to 'ensure_all_finite' in 1.6 and will be removed in 1.8.\n",
            "  warnings.warn(\n",
            "Projecting Embeddings:  17%|█▋        | 41/246 [00:00<00:00, 401.88it/s]/usr/local/lib/python3.11/dist-packages/sklearn/utils/deprecation.py:151: FutureWarning: 'force_all_finite' was renamed to 'ensure_all_finite' in 1.6 and will be removed in 1.8.\n",
            "  warnings.warn(\n",
            "/usr/local/lib/python3.11/dist-packages/sklearn/utils/deprecation.py:151: FutureWarning: 'force_all_finite' was renamed to 'ensure_all_finite' in 1.6 and will be removed in 1.8.\n",
            "  warnings.warn(\n",
            "/usr/local/lib/python3.11/dist-packages/sklearn/utils/deprecation.py:151: FutureWarning: 'force_all_finite' was renamed to 'ensure_all_finite' in 1.6 and will be removed in 1.8.\n",
            "  warnings.warn(\n",
            "/usr/local/lib/python3.11/dist-packages/sklearn/utils/deprecation.py:151: FutureWarning: 'force_all_finite' was renamed to 'ensure_all_finite' in 1.6 and will be removed in 1.8.\n",
            "  warnings.warn(\n",
            "/usr/local/lib/python3.11/dist-packages/sklearn/utils/deprecation.py:151: FutureWarning: 'force_all_finite' was renamed to 'ensure_all_finite' in 1.6 and will be removed in 1.8.\n",
            "  warnings.warn(\n",
            "/usr/local/lib/python3.11/dist-packages/sklearn/utils/deprecation.py:151: FutureWarning: 'force_all_finite' was renamed to 'ensure_all_finite' in 1.6 and will be removed in 1.8.\n",
            "  warnings.warn(\n",
            "/usr/local/lib/python3.11/dist-packages/sklearn/utils/deprecation.py:151: FutureWarning: 'force_all_finite' was renamed to 'ensure_all_finite' in 1.6 and will be removed in 1.8.\n",
            "  warnings.warn(\n",
            "/usr/local/lib/python3.11/dist-packages/sklearn/utils/deprecation.py:151: FutureWarning: 'force_all_finite' was renamed to 'ensure_all_finite' in 1.6 and will be removed in 1.8.\n",
            "  warnings.warn(\n",
            "/usr/local/lib/python3.11/dist-packages/sklearn/utils/deprecation.py:151: FutureWarning: 'force_all_finite' was renamed to 'ensure_all_finite' in 1.6 and will be removed in 1.8.\n",
            "  warnings.warn(\n",
            "/usr/local/lib/python3.11/dist-packages/sklearn/utils/deprecation.py:151: FutureWarning: 'force_all_finite' was renamed to 'ensure_all_finite' in 1.6 and will be removed in 1.8.\n",
            "  warnings.warn(\n",
            "/usr/local/lib/python3.11/dist-packages/sklearn/utils/deprecation.py:151: FutureWarning: 'force_all_finite' was renamed to 'ensure_all_finite' in 1.6 and will be removed in 1.8.\n",
            "  warnings.warn(\n",
            "/usr/local/lib/python3.11/dist-packages/sklearn/utils/deprecation.py:151: FutureWarning: 'force_all_finite' was renamed to 'ensure_all_finite' in 1.6 and will be removed in 1.8.\n",
            "  warnings.warn(\n",
            "/usr/local/lib/python3.11/dist-packages/sklearn/utils/deprecation.py:151: FutureWarning: 'force_all_finite' was renamed to 'ensure_all_finite' in 1.6 and will be removed in 1.8.\n",
            "  warnings.warn(\n",
            "/usr/local/lib/python3.11/dist-packages/sklearn/utils/deprecation.py:151: FutureWarning: 'force_all_finite' was renamed to 'ensure_all_finite' in 1.6 and will be removed in 1.8.\n",
            "  warnings.warn(\n",
            "/usr/local/lib/python3.11/dist-packages/sklearn/utils/deprecation.py:151: FutureWarning: 'force_all_finite' was renamed to 'ensure_all_finite' in 1.6 and will be removed in 1.8.\n",
            "  warnings.warn(\n",
            "/usr/local/lib/python3.11/dist-packages/sklearn/utils/deprecation.py:151: FutureWarning: 'force_all_finite' was renamed to 'ensure_all_finite' in 1.6 and will be removed in 1.8.\n",
            "  warnings.warn(\n",
            "/usr/local/lib/python3.11/dist-packages/sklearn/utils/deprecation.py:151: FutureWarning: 'force_all_finite' was renamed to 'ensure_all_finite' in 1.6 and will be removed in 1.8.\n",
            "  warnings.warn(\n",
            "/usr/local/lib/python3.11/dist-packages/sklearn/utils/deprecation.py:151: FutureWarning: 'force_all_finite' was renamed to 'ensure_all_finite' in 1.6 and will be removed in 1.8.\n",
            "  warnings.warn(\n",
            "/usr/local/lib/python3.11/dist-packages/sklearn/utils/deprecation.py:151: FutureWarning: 'force_all_finite' was renamed to 'ensure_all_finite' in 1.6 and will be removed in 1.8.\n",
            "  warnings.warn(\n",
            "/usr/local/lib/python3.11/dist-packages/sklearn/utils/deprecation.py:151: FutureWarning: 'force_all_finite' was renamed to 'ensure_all_finite' in 1.6 and will be removed in 1.8.\n",
            "  warnings.warn(\n",
            "/usr/local/lib/python3.11/dist-packages/sklearn/utils/deprecation.py:151: FutureWarning: 'force_all_finite' was renamed to 'ensure_all_finite' in 1.6 and will be removed in 1.8.\n",
            "  warnings.warn(\n",
            "/usr/local/lib/python3.11/dist-packages/sklearn/utils/deprecation.py:151: FutureWarning: 'force_all_finite' was renamed to 'ensure_all_finite' in 1.6 and will be removed in 1.8.\n",
            "  warnings.warn(\n",
            "/usr/local/lib/python3.11/dist-packages/sklearn/utils/deprecation.py:151: FutureWarning: 'force_all_finite' was renamed to 'ensure_all_finite' in 1.6 and will be removed in 1.8.\n",
            "  warnings.warn(\n",
            "/usr/local/lib/python3.11/dist-packages/sklearn/utils/deprecation.py:151: FutureWarning: 'force_all_finite' was renamed to 'ensure_all_finite' in 1.6 and will be removed in 1.8.\n",
            "  warnings.warn(\n",
            "/usr/local/lib/python3.11/dist-packages/sklearn/utils/deprecation.py:151: FutureWarning: 'force_all_finite' was renamed to 'ensure_all_finite' in 1.6 and will be removed in 1.8.\n",
            "  warnings.warn(\n",
            "/usr/local/lib/python3.11/dist-packages/sklearn/utils/deprecation.py:151: FutureWarning: 'force_all_finite' was renamed to 'ensure_all_finite' in 1.6 and will be removed in 1.8.\n",
            "  warnings.warn(\n",
            "/usr/local/lib/python3.11/dist-packages/sklearn/utils/deprecation.py:151: FutureWarning: 'force_all_finite' was renamed to 'ensure_all_finite' in 1.6 and will be removed in 1.8.\n",
            "  warnings.warn(\n",
            "/usr/local/lib/python3.11/dist-packages/sklearn/utils/deprecation.py:151: FutureWarning: 'force_all_finite' was renamed to 'ensure_all_finite' in 1.6 and will be removed in 1.8.\n",
            "  warnings.warn(\n",
            "/usr/local/lib/python3.11/dist-packages/sklearn/utils/deprecation.py:151: FutureWarning: 'force_all_finite' was renamed to 'ensure_all_finite' in 1.6 and will be removed in 1.8.\n",
            "  warnings.warn(\n",
            "/usr/local/lib/python3.11/dist-packages/sklearn/utils/deprecation.py:151: FutureWarning: 'force_all_finite' was renamed to 'ensure_all_finite' in 1.6 and will be removed in 1.8.\n",
            "  warnings.warn(\n",
            "/usr/local/lib/python3.11/dist-packages/sklearn/utils/deprecation.py:151: FutureWarning: 'force_all_finite' was renamed to 'ensure_all_finite' in 1.6 and will be removed in 1.8.\n",
            "  warnings.warn(\n",
            "/usr/local/lib/python3.11/dist-packages/sklearn/utils/deprecation.py:151: FutureWarning: 'force_all_finite' was renamed to 'ensure_all_finite' in 1.6 and will be removed in 1.8.\n",
            "  warnings.warn(\n",
            "/usr/local/lib/python3.11/dist-packages/sklearn/utils/deprecation.py:151: FutureWarning: 'force_all_finite' was renamed to 'ensure_all_finite' in 1.6 and will be removed in 1.8.\n",
            "  warnings.warn(\n",
            "/usr/local/lib/python3.11/dist-packages/sklearn/utils/deprecation.py:151: FutureWarning: 'force_all_finite' was renamed to 'ensure_all_finite' in 1.6 and will be removed in 1.8.\n",
            "  warnings.warn(\n",
            "/usr/local/lib/python3.11/dist-packages/sklearn/utils/deprecation.py:151: FutureWarning: 'force_all_finite' was renamed to 'ensure_all_finite' in 1.6 and will be removed in 1.8.\n",
            "  warnings.warn(\n",
            "/usr/local/lib/python3.11/dist-packages/sklearn/utils/deprecation.py:151: FutureWarning: 'force_all_finite' was renamed to 'ensure_all_finite' in 1.6 and will be removed in 1.8.\n",
            "  warnings.warn(\n",
            "/usr/local/lib/python3.11/dist-packages/sklearn/utils/deprecation.py:151: FutureWarning: 'force_all_finite' was renamed to 'ensure_all_finite' in 1.6 and will be removed in 1.8.\n",
            "  warnings.warn(\n",
            "/usr/local/lib/python3.11/dist-packages/sklearn/utils/deprecation.py:151: FutureWarning: 'force_all_finite' was renamed to 'ensure_all_finite' in 1.6 and will be removed in 1.8.\n",
            "  warnings.warn(\n",
            "/usr/local/lib/python3.11/dist-packages/sklearn/utils/deprecation.py:151: FutureWarning: 'force_all_finite' was renamed to 'ensure_all_finite' in 1.6 and will be removed in 1.8.\n",
            "  warnings.warn(\n",
            "/usr/local/lib/python3.11/dist-packages/sklearn/utils/deprecation.py:151: FutureWarning: 'force_all_finite' was renamed to 'ensure_all_finite' in 1.6 and will be removed in 1.8.\n",
            "  warnings.warn(\n",
            "/usr/local/lib/python3.11/dist-packages/sklearn/utils/deprecation.py:151: FutureWarning: 'force_all_finite' was renamed to 'ensure_all_finite' in 1.6 and will be removed in 1.8.\n",
            "  warnings.warn(\n",
            "Projecting Embeddings:  33%|███▎      | 82/246 [00:00<00:00, 385.39it/s]/usr/local/lib/python3.11/dist-packages/sklearn/utils/deprecation.py:151: FutureWarning: 'force_all_finite' was renamed to 'ensure_all_finite' in 1.6 and will be removed in 1.8.\n",
            "  warnings.warn(\n",
            "/usr/local/lib/python3.11/dist-packages/sklearn/utils/deprecation.py:151: FutureWarning: 'force_all_finite' was renamed to 'ensure_all_finite' in 1.6 and will be removed in 1.8.\n",
            "  warnings.warn(\n",
            "/usr/local/lib/python3.11/dist-packages/sklearn/utils/deprecation.py:151: FutureWarning: 'force_all_finite' was renamed to 'ensure_all_finite' in 1.6 and will be removed in 1.8.\n",
            "  warnings.warn(\n",
            "/usr/local/lib/python3.11/dist-packages/sklearn/utils/deprecation.py:151: FutureWarning: 'force_all_finite' was renamed to 'ensure_all_finite' in 1.6 and will be removed in 1.8.\n",
            "  warnings.warn(\n",
            "/usr/local/lib/python3.11/dist-packages/sklearn/utils/deprecation.py:151: FutureWarning: 'force_all_finite' was renamed to 'ensure_all_finite' in 1.6 and will be removed in 1.8.\n",
            "  warnings.warn(\n",
            "/usr/local/lib/python3.11/dist-packages/sklearn/utils/deprecation.py:151: FutureWarning: 'force_all_finite' was renamed to 'ensure_all_finite' in 1.6 and will be removed in 1.8.\n",
            "  warnings.warn(\n",
            "/usr/local/lib/python3.11/dist-packages/sklearn/utils/deprecation.py:151: FutureWarning: 'force_all_finite' was renamed to 'ensure_all_finite' in 1.6 and will be removed in 1.8.\n",
            "  warnings.warn(\n",
            "/usr/local/lib/python3.11/dist-packages/sklearn/utils/deprecation.py:151: FutureWarning: 'force_all_finite' was renamed to 'ensure_all_finite' in 1.6 and will be removed in 1.8.\n",
            "  warnings.warn(\n",
            "/usr/local/lib/python3.11/dist-packages/sklearn/utils/deprecation.py:151: FutureWarning: 'force_all_finite' was renamed to 'ensure_all_finite' in 1.6 and will be removed in 1.8.\n",
            "  warnings.warn(\n",
            "/usr/local/lib/python3.11/dist-packages/sklearn/utils/deprecation.py:151: FutureWarning: 'force_all_finite' was renamed to 'ensure_all_finite' in 1.6 and will be removed in 1.8.\n",
            "  warnings.warn(\n",
            "/usr/local/lib/python3.11/dist-packages/sklearn/utils/deprecation.py:151: FutureWarning: 'force_all_finite' was renamed to 'ensure_all_finite' in 1.6 and will be removed in 1.8.\n",
            "  warnings.warn(\n",
            "/usr/local/lib/python3.11/dist-packages/sklearn/utils/deprecation.py:151: FutureWarning: 'force_all_finite' was renamed to 'ensure_all_finite' in 1.6 and will be removed in 1.8.\n",
            "  warnings.warn(\n",
            "/usr/local/lib/python3.11/dist-packages/sklearn/utils/deprecation.py:151: FutureWarning: 'force_all_finite' was renamed to 'ensure_all_finite' in 1.6 and will be removed in 1.8.\n",
            "  warnings.warn(\n",
            "/usr/local/lib/python3.11/dist-packages/sklearn/utils/deprecation.py:151: FutureWarning: 'force_all_finite' was renamed to 'ensure_all_finite' in 1.6 and will be removed in 1.8.\n",
            "  warnings.warn(\n",
            "/usr/local/lib/python3.11/dist-packages/sklearn/utils/deprecation.py:151: FutureWarning: 'force_all_finite' was renamed to 'ensure_all_finite' in 1.6 and will be removed in 1.8.\n",
            "  warnings.warn(\n",
            "/usr/local/lib/python3.11/dist-packages/sklearn/utils/deprecation.py:151: FutureWarning: 'force_all_finite' was renamed to 'ensure_all_finite' in 1.6 and will be removed in 1.8.\n",
            "  warnings.warn(\n",
            "/usr/local/lib/python3.11/dist-packages/sklearn/utils/deprecation.py:151: FutureWarning: 'force_all_finite' was renamed to 'ensure_all_finite' in 1.6 and will be removed in 1.8.\n",
            "  warnings.warn(\n",
            "/usr/local/lib/python3.11/dist-packages/sklearn/utils/deprecation.py:151: FutureWarning: 'force_all_finite' was renamed to 'ensure_all_finite' in 1.6 and will be removed in 1.8.\n",
            "  warnings.warn(\n",
            "/usr/local/lib/python3.11/dist-packages/sklearn/utils/deprecation.py:151: FutureWarning: 'force_all_finite' was renamed to 'ensure_all_finite' in 1.6 and will be removed in 1.8.\n",
            "  warnings.warn(\n",
            "/usr/local/lib/python3.11/dist-packages/sklearn/utils/deprecation.py:151: FutureWarning: 'force_all_finite' was renamed to 'ensure_all_finite' in 1.6 and will be removed in 1.8.\n",
            "  warnings.warn(\n",
            "/usr/local/lib/python3.11/dist-packages/sklearn/utils/deprecation.py:151: FutureWarning: 'force_all_finite' was renamed to 'ensure_all_finite' in 1.6 and will be removed in 1.8.\n",
            "  warnings.warn(\n",
            "/usr/local/lib/python3.11/dist-packages/sklearn/utils/deprecation.py:151: FutureWarning: 'force_all_finite' was renamed to 'ensure_all_finite' in 1.6 and will be removed in 1.8.\n",
            "  warnings.warn(\n",
            "/usr/local/lib/python3.11/dist-packages/sklearn/utils/deprecation.py:151: FutureWarning: 'force_all_finite' was renamed to 'ensure_all_finite' in 1.6 and will be removed in 1.8.\n",
            "  warnings.warn(\n",
            "/usr/local/lib/python3.11/dist-packages/sklearn/utils/deprecation.py:151: FutureWarning: 'force_all_finite' was renamed to 'ensure_all_finite' in 1.6 and will be removed in 1.8.\n",
            "  warnings.warn(\n",
            "/usr/local/lib/python3.11/dist-packages/sklearn/utils/deprecation.py:151: FutureWarning: 'force_all_finite' was renamed to 'ensure_all_finite' in 1.6 and will be removed in 1.8.\n",
            "  warnings.warn(\n",
            "/usr/local/lib/python3.11/dist-packages/sklearn/utils/deprecation.py:151: FutureWarning: 'force_all_finite' was renamed to 'ensure_all_finite' in 1.6 and will be removed in 1.8.\n",
            "  warnings.warn(\n",
            "/usr/local/lib/python3.11/dist-packages/sklearn/utils/deprecation.py:151: FutureWarning: 'force_all_finite' was renamed to 'ensure_all_finite' in 1.6 and will be removed in 1.8.\n",
            "  warnings.warn(\n",
            "/usr/local/lib/python3.11/dist-packages/sklearn/utils/deprecation.py:151: FutureWarning: 'force_all_finite' was renamed to 'ensure_all_finite' in 1.6 and will be removed in 1.8.\n",
            "  warnings.warn(\n",
            "/usr/local/lib/python3.11/dist-packages/sklearn/utils/deprecation.py:151: FutureWarning: 'force_all_finite' was renamed to 'ensure_all_finite' in 1.6 and will be removed in 1.8.\n",
            "  warnings.warn(\n",
            "/usr/local/lib/python3.11/dist-packages/sklearn/utils/deprecation.py:151: FutureWarning: 'force_all_finite' was renamed to 'ensure_all_finite' in 1.6 and will be removed in 1.8.\n",
            "  warnings.warn(\n",
            "/usr/local/lib/python3.11/dist-packages/sklearn/utils/deprecation.py:151: FutureWarning: 'force_all_finite' was renamed to 'ensure_all_finite' in 1.6 and will be removed in 1.8.\n",
            "  warnings.warn(\n",
            "/usr/local/lib/python3.11/dist-packages/sklearn/utils/deprecation.py:151: FutureWarning: 'force_all_finite' was renamed to 'ensure_all_finite' in 1.6 and will be removed in 1.8.\n",
            "  warnings.warn(\n",
            "/usr/local/lib/python3.11/dist-packages/sklearn/utils/deprecation.py:151: FutureWarning: 'force_all_finite' was renamed to 'ensure_all_finite' in 1.6 and will be removed in 1.8.\n",
            "  warnings.warn(\n",
            "/usr/local/lib/python3.11/dist-packages/sklearn/utils/deprecation.py:151: FutureWarning: 'force_all_finite' was renamed to 'ensure_all_finite' in 1.6 and will be removed in 1.8.\n",
            "  warnings.warn(\n",
            "/usr/local/lib/python3.11/dist-packages/sklearn/utils/deprecation.py:151: FutureWarning: 'force_all_finite' was renamed to 'ensure_all_finite' in 1.6 and will be removed in 1.8.\n",
            "  warnings.warn(\n",
            "/usr/local/lib/python3.11/dist-packages/sklearn/utils/deprecation.py:151: FutureWarning: 'force_all_finite' was renamed to 'ensure_all_finite' in 1.6 and will be removed in 1.8.\n",
            "  warnings.warn(\n",
            "/usr/local/lib/python3.11/dist-packages/sklearn/utils/deprecation.py:151: FutureWarning: 'force_all_finite' was renamed to 'ensure_all_finite' in 1.6 and will be removed in 1.8.\n",
            "  warnings.warn(\n",
            "/usr/local/lib/python3.11/dist-packages/sklearn/utils/deprecation.py:151: FutureWarning: 'force_all_finite' was renamed to 'ensure_all_finite' in 1.6 and will be removed in 1.8.\n",
            "  warnings.warn(\n",
            "/usr/local/lib/python3.11/dist-packages/sklearn/utils/deprecation.py:151: FutureWarning: 'force_all_finite' was renamed to 'ensure_all_finite' in 1.6 and will be removed in 1.8.\n",
            "  warnings.warn(\n",
            "/usr/local/lib/python3.11/dist-packages/sklearn/utils/deprecation.py:151: FutureWarning: 'force_all_finite' was renamed to 'ensure_all_finite' in 1.6 and will be removed in 1.8.\n",
            "  warnings.warn(\n",
            "Projecting Embeddings:  50%|████▉     | 122/246 [00:00<00:00, 389.85it/s]/usr/local/lib/python3.11/dist-packages/sklearn/utils/deprecation.py:151: FutureWarning: 'force_all_finite' was renamed to 'ensure_all_finite' in 1.6 and will be removed in 1.8.\n",
            "  warnings.warn(\n",
            "/usr/local/lib/python3.11/dist-packages/sklearn/utils/deprecation.py:151: FutureWarning: 'force_all_finite' was renamed to 'ensure_all_finite' in 1.6 and will be removed in 1.8.\n",
            "  warnings.warn(\n",
            "/usr/local/lib/python3.11/dist-packages/sklearn/utils/deprecation.py:151: FutureWarning: 'force_all_finite' was renamed to 'ensure_all_finite' in 1.6 and will be removed in 1.8.\n",
            "  warnings.warn(\n",
            "/usr/local/lib/python3.11/dist-packages/sklearn/utils/deprecation.py:151: FutureWarning: 'force_all_finite' was renamed to 'ensure_all_finite' in 1.6 and will be removed in 1.8.\n",
            "  warnings.warn(\n",
            "/usr/local/lib/python3.11/dist-packages/sklearn/utils/deprecation.py:151: FutureWarning: 'force_all_finite' was renamed to 'ensure_all_finite' in 1.6 and will be removed in 1.8.\n",
            "  warnings.warn(\n",
            "/usr/local/lib/python3.11/dist-packages/sklearn/utils/deprecation.py:151: FutureWarning: 'force_all_finite' was renamed to 'ensure_all_finite' in 1.6 and will be removed in 1.8.\n",
            "  warnings.warn(\n",
            "/usr/local/lib/python3.11/dist-packages/sklearn/utils/deprecation.py:151: FutureWarning: 'force_all_finite' was renamed to 'ensure_all_finite' in 1.6 and will be removed in 1.8.\n",
            "  warnings.warn(\n",
            "/usr/local/lib/python3.11/dist-packages/sklearn/utils/deprecation.py:151: FutureWarning: 'force_all_finite' was renamed to 'ensure_all_finite' in 1.6 and will be removed in 1.8.\n",
            "  warnings.warn(\n",
            "/usr/local/lib/python3.11/dist-packages/sklearn/utils/deprecation.py:151: FutureWarning: 'force_all_finite' was renamed to 'ensure_all_finite' in 1.6 and will be removed in 1.8.\n",
            "  warnings.warn(\n",
            "/usr/local/lib/python3.11/dist-packages/sklearn/utils/deprecation.py:151: FutureWarning: 'force_all_finite' was renamed to 'ensure_all_finite' in 1.6 and will be removed in 1.8.\n",
            "  warnings.warn(\n",
            "/usr/local/lib/python3.11/dist-packages/sklearn/utils/deprecation.py:151: FutureWarning: 'force_all_finite' was renamed to 'ensure_all_finite' in 1.6 and will be removed in 1.8.\n",
            "  warnings.warn(\n",
            "/usr/local/lib/python3.11/dist-packages/sklearn/utils/deprecation.py:151: FutureWarning: 'force_all_finite' was renamed to 'ensure_all_finite' in 1.6 and will be removed in 1.8.\n",
            "  warnings.warn(\n",
            "/usr/local/lib/python3.11/dist-packages/sklearn/utils/deprecation.py:151: FutureWarning: 'force_all_finite' was renamed to 'ensure_all_finite' in 1.6 and will be removed in 1.8.\n",
            "  warnings.warn(\n",
            "/usr/local/lib/python3.11/dist-packages/sklearn/utils/deprecation.py:151: FutureWarning: 'force_all_finite' was renamed to 'ensure_all_finite' in 1.6 and will be removed in 1.8.\n",
            "  warnings.warn(\n",
            "/usr/local/lib/python3.11/dist-packages/sklearn/utils/deprecation.py:151: FutureWarning: 'force_all_finite' was renamed to 'ensure_all_finite' in 1.6 and will be removed in 1.8.\n",
            "  warnings.warn(\n",
            "/usr/local/lib/python3.11/dist-packages/sklearn/utils/deprecation.py:151: FutureWarning: 'force_all_finite' was renamed to 'ensure_all_finite' in 1.6 and will be removed in 1.8.\n",
            "  warnings.warn(\n",
            "/usr/local/lib/python3.11/dist-packages/sklearn/utils/deprecation.py:151: FutureWarning: 'force_all_finite' was renamed to 'ensure_all_finite' in 1.6 and will be removed in 1.8.\n",
            "  warnings.warn(\n",
            "/usr/local/lib/python3.11/dist-packages/sklearn/utils/deprecation.py:151: FutureWarning: 'force_all_finite' was renamed to 'ensure_all_finite' in 1.6 and will be removed in 1.8.\n",
            "  warnings.warn(\n",
            "/usr/local/lib/python3.11/dist-packages/sklearn/utils/deprecation.py:151: FutureWarning: 'force_all_finite' was renamed to 'ensure_all_finite' in 1.6 and will be removed in 1.8.\n",
            "  warnings.warn(\n",
            "/usr/local/lib/python3.11/dist-packages/sklearn/utils/deprecation.py:151: FutureWarning: 'force_all_finite' was renamed to 'ensure_all_finite' in 1.6 and will be removed in 1.8.\n",
            "  warnings.warn(\n",
            "/usr/local/lib/python3.11/dist-packages/sklearn/utils/deprecation.py:151: FutureWarning: 'force_all_finite' was renamed to 'ensure_all_finite' in 1.6 and will be removed in 1.8.\n",
            "  warnings.warn(\n",
            "/usr/local/lib/python3.11/dist-packages/sklearn/utils/deprecation.py:151: FutureWarning: 'force_all_finite' was renamed to 'ensure_all_finite' in 1.6 and will be removed in 1.8.\n",
            "  warnings.warn(\n",
            "/usr/local/lib/python3.11/dist-packages/sklearn/utils/deprecation.py:151: FutureWarning: 'force_all_finite' was renamed to 'ensure_all_finite' in 1.6 and will be removed in 1.8.\n",
            "  warnings.warn(\n",
            "/usr/local/lib/python3.11/dist-packages/sklearn/utils/deprecation.py:151: FutureWarning: 'force_all_finite' was renamed to 'ensure_all_finite' in 1.6 and will be removed in 1.8.\n",
            "  warnings.warn(\n",
            "/usr/local/lib/python3.11/dist-packages/sklearn/utils/deprecation.py:151: FutureWarning: 'force_all_finite' was renamed to 'ensure_all_finite' in 1.6 and will be removed in 1.8.\n",
            "  warnings.warn(\n",
            "/usr/local/lib/python3.11/dist-packages/sklearn/utils/deprecation.py:151: FutureWarning: 'force_all_finite' was renamed to 'ensure_all_finite' in 1.6 and will be removed in 1.8.\n",
            "  warnings.warn(\n",
            "/usr/local/lib/python3.11/dist-packages/sklearn/utils/deprecation.py:151: FutureWarning: 'force_all_finite' was renamed to 'ensure_all_finite' in 1.6 and will be removed in 1.8.\n",
            "  warnings.warn(\n",
            "/usr/local/lib/python3.11/dist-packages/sklearn/utils/deprecation.py:151: FutureWarning: 'force_all_finite' was renamed to 'ensure_all_finite' in 1.6 and will be removed in 1.8.\n",
            "  warnings.warn(\n",
            "/usr/local/lib/python3.11/dist-packages/sklearn/utils/deprecation.py:151: FutureWarning: 'force_all_finite' was renamed to 'ensure_all_finite' in 1.6 and will be removed in 1.8.\n",
            "  warnings.warn(\n",
            "/usr/local/lib/python3.11/dist-packages/sklearn/utils/deprecation.py:151: FutureWarning: 'force_all_finite' was renamed to 'ensure_all_finite' in 1.6 and will be removed in 1.8.\n",
            "  warnings.warn(\n",
            "/usr/local/lib/python3.11/dist-packages/sklearn/utils/deprecation.py:151: FutureWarning: 'force_all_finite' was renamed to 'ensure_all_finite' in 1.6 and will be removed in 1.8.\n",
            "  warnings.warn(\n",
            "/usr/local/lib/python3.11/dist-packages/sklearn/utils/deprecation.py:151: FutureWarning: 'force_all_finite' was renamed to 'ensure_all_finite' in 1.6 and will be removed in 1.8.\n",
            "  warnings.warn(\n",
            "/usr/local/lib/python3.11/dist-packages/sklearn/utils/deprecation.py:151: FutureWarning: 'force_all_finite' was renamed to 'ensure_all_finite' in 1.6 and will be removed in 1.8.\n",
            "  warnings.warn(\n",
            "/usr/local/lib/python3.11/dist-packages/sklearn/utils/deprecation.py:151: FutureWarning: 'force_all_finite' was renamed to 'ensure_all_finite' in 1.6 and will be removed in 1.8.\n",
            "  warnings.warn(\n",
            "/usr/local/lib/python3.11/dist-packages/sklearn/utils/deprecation.py:151: FutureWarning: 'force_all_finite' was renamed to 'ensure_all_finite' in 1.6 and will be removed in 1.8.\n",
            "  warnings.warn(\n",
            "/usr/local/lib/python3.11/dist-packages/sklearn/utils/deprecation.py:151: FutureWarning: 'force_all_finite' was renamed to 'ensure_all_finite' in 1.6 and will be removed in 1.8.\n",
            "  warnings.warn(\n",
            "/usr/local/lib/python3.11/dist-packages/sklearn/utils/deprecation.py:151: FutureWarning: 'force_all_finite' was renamed to 'ensure_all_finite' in 1.6 and will be removed in 1.8.\n",
            "  warnings.warn(\n",
            "/usr/local/lib/python3.11/dist-packages/sklearn/utils/deprecation.py:151: FutureWarning: 'force_all_finite' was renamed to 'ensure_all_finite' in 1.6 and will be removed in 1.8.\n",
            "  warnings.warn(\n",
            "/usr/local/lib/python3.11/dist-packages/sklearn/utils/deprecation.py:151: FutureWarning: 'force_all_finite' was renamed to 'ensure_all_finite' in 1.6 and will be removed in 1.8.\n",
            "  warnings.warn(\n",
            "/usr/local/lib/python3.11/dist-packages/sklearn/utils/deprecation.py:151: FutureWarning: 'force_all_finite' was renamed to 'ensure_all_finite' in 1.6 and will be removed in 1.8.\n",
            "  warnings.warn(\n",
            "Projecting Embeddings:  66%|██████▌   | 162/246 [00:00<00:00, 378.78it/s]/usr/local/lib/python3.11/dist-packages/sklearn/utils/deprecation.py:151: FutureWarning: 'force_all_finite' was renamed to 'ensure_all_finite' in 1.6 and will be removed in 1.8.\n",
            "  warnings.warn(\n",
            "/usr/local/lib/python3.11/dist-packages/sklearn/utils/deprecation.py:151: FutureWarning: 'force_all_finite' was renamed to 'ensure_all_finite' in 1.6 and will be removed in 1.8.\n",
            "  warnings.warn(\n",
            "/usr/local/lib/python3.11/dist-packages/sklearn/utils/deprecation.py:151: FutureWarning: 'force_all_finite' was renamed to 'ensure_all_finite' in 1.6 and will be removed in 1.8.\n",
            "  warnings.warn(\n",
            "/usr/local/lib/python3.11/dist-packages/sklearn/utils/deprecation.py:151: FutureWarning: 'force_all_finite' was renamed to 'ensure_all_finite' in 1.6 and will be removed in 1.8.\n",
            "  warnings.warn(\n",
            "/usr/local/lib/python3.11/dist-packages/sklearn/utils/deprecation.py:151: FutureWarning: 'force_all_finite' was renamed to 'ensure_all_finite' in 1.6 and will be removed in 1.8.\n",
            "  warnings.warn(\n",
            "/usr/local/lib/python3.11/dist-packages/sklearn/utils/deprecation.py:151: FutureWarning: 'force_all_finite' was renamed to 'ensure_all_finite' in 1.6 and will be removed in 1.8.\n",
            "  warnings.warn(\n",
            "/usr/local/lib/python3.11/dist-packages/sklearn/utils/deprecation.py:151: FutureWarning: 'force_all_finite' was renamed to 'ensure_all_finite' in 1.6 and will be removed in 1.8.\n",
            "  warnings.warn(\n",
            "/usr/local/lib/python3.11/dist-packages/sklearn/utils/deprecation.py:151: FutureWarning: 'force_all_finite' was renamed to 'ensure_all_finite' in 1.6 and will be removed in 1.8.\n",
            "  warnings.warn(\n",
            "/usr/local/lib/python3.11/dist-packages/sklearn/utils/deprecation.py:151: FutureWarning: 'force_all_finite' was renamed to 'ensure_all_finite' in 1.6 and will be removed in 1.8.\n",
            "  warnings.warn(\n",
            "/usr/local/lib/python3.11/dist-packages/sklearn/utils/deprecation.py:151: FutureWarning: 'force_all_finite' was renamed to 'ensure_all_finite' in 1.6 and will be removed in 1.8.\n",
            "  warnings.warn(\n",
            "/usr/local/lib/python3.11/dist-packages/sklearn/utils/deprecation.py:151: FutureWarning: 'force_all_finite' was renamed to 'ensure_all_finite' in 1.6 and will be removed in 1.8.\n",
            "  warnings.warn(\n",
            "/usr/local/lib/python3.11/dist-packages/sklearn/utils/deprecation.py:151: FutureWarning: 'force_all_finite' was renamed to 'ensure_all_finite' in 1.6 and will be removed in 1.8.\n",
            "  warnings.warn(\n",
            "/usr/local/lib/python3.11/dist-packages/sklearn/utils/deprecation.py:151: FutureWarning: 'force_all_finite' was renamed to 'ensure_all_finite' in 1.6 and will be removed in 1.8.\n",
            "  warnings.warn(\n",
            "/usr/local/lib/python3.11/dist-packages/sklearn/utils/deprecation.py:151: FutureWarning: 'force_all_finite' was renamed to 'ensure_all_finite' in 1.6 and will be removed in 1.8.\n",
            "  warnings.warn(\n",
            "/usr/local/lib/python3.11/dist-packages/sklearn/utils/deprecation.py:151: FutureWarning: 'force_all_finite' was renamed to 'ensure_all_finite' in 1.6 and will be removed in 1.8.\n",
            "  warnings.warn(\n",
            "/usr/local/lib/python3.11/dist-packages/sklearn/utils/deprecation.py:151: FutureWarning: 'force_all_finite' was renamed to 'ensure_all_finite' in 1.6 and will be removed in 1.8.\n",
            "  warnings.warn(\n",
            "/usr/local/lib/python3.11/dist-packages/sklearn/utils/deprecation.py:151: FutureWarning: 'force_all_finite' was renamed to 'ensure_all_finite' in 1.6 and will be removed in 1.8.\n",
            "  warnings.warn(\n",
            "/usr/local/lib/python3.11/dist-packages/sklearn/utils/deprecation.py:151: FutureWarning: 'force_all_finite' was renamed to 'ensure_all_finite' in 1.6 and will be removed in 1.8.\n",
            "  warnings.warn(\n",
            "/usr/local/lib/python3.11/dist-packages/sklearn/utils/deprecation.py:151: FutureWarning: 'force_all_finite' was renamed to 'ensure_all_finite' in 1.6 and will be removed in 1.8.\n",
            "  warnings.warn(\n",
            "/usr/local/lib/python3.11/dist-packages/sklearn/utils/deprecation.py:151: FutureWarning: 'force_all_finite' was renamed to 'ensure_all_finite' in 1.6 and will be removed in 1.8.\n",
            "  warnings.warn(\n",
            "/usr/local/lib/python3.11/dist-packages/sklearn/utils/deprecation.py:151: FutureWarning: 'force_all_finite' was renamed to 'ensure_all_finite' in 1.6 and will be removed in 1.8.\n",
            "  warnings.warn(\n",
            "/usr/local/lib/python3.11/dist-packages/sklearn/utils/deprecation.py:151: FutureWarning: 'force_all_finite' was renamed to 'ensure_all_finite' in 1.6 and will be removed in 1.8.\n",
            "  warnings.warn(\n",
            "/usr/local/lib/python3.11/dist-packages/sklearn/utils/deprecation.py:151: FutureWarning: 'force_all_finite' was renamed to 'ensure_all_finite' in 1.6 and will be removed in 1.8.\n",
            "  warnings.warn(\n",
            "/usr/local/lib/python3.11/dist-packages/sklearn/utils/deprecation.py:151: FutureWarning: 'force_all_finite' was renamed to 'ensure_all_finite' in 1.6 and will be removed in 1.8.\n",
            "  warnings.warn(\n",
            "/usr/local/lib/python3.11/dist-packages/sklearn/utils/deprecation.py:151: FutureWarning: 'force_all_finite' was renamed to 'ensure_all_finite' in 1.6 and will be removed in 1.8.\n",
            "  warnings.warn(\n",
            "/usr/local/lib/python3.11/dist-packages/sklearn/utils/deprecation.py:151: FutureWarning: 'force_all_finite' was renamed to 'ensure_all_finite' in 1.6 and will be removed in 1.8.\n",
            "  warnings.warn(\n",
            "/usr/local/lib/python3.11/dist-packages/sklearn/utils/deprecation.py:151: FutureWarning: 'force_all_finite' was renamed to 'ensure_all_finite' in 1.6 and will be removed in 1.8.\n",
            "  warnings.warn(\n",
            "/usr/local/lib/python3.11/dist-packages/sklearn/utils/deprecation.py:151: FutureWarning: 'force_all_finite' was renamed to 'ensure_all_finite' in 1.6 and will be removed in 1.8.\n",
            "  warnings.warn(\n",
            "/usr/local/lib/python3.11/dist-packages/sklearn/utils/deprecation.py:151: FutureWarning: 'force_all_finite' was renamed to 'ensure_all_finite' in 1.6 and will be removed in 1.8.\n",
            "  warnings.warn(\n",
            "/usr/local/lib/python3.11/dist-packages/sklearn/utils/deprecation.py:151: FutureWarning: 'force_all_finite' was renamed to 'ensure_all_finite' in 1.6 and will be removed in 1.8.\n",
            "  warnings.warn(\n",
            "/usr/local/lib/python3.11/dist-packages/sklearn/utils/deprecation.py:151: FutureWarning: 'force_all_finite' was renamed to 'ensure_all_finite' in 1.6 and will be removed in 1.8.\n",
            "  warnings.warn(\n",
            "/usr/local/lib/python3.11/dist-packages/sklearn/utils/deprecation.py:151: FutureWarning: 'force_all_finite' was renamed to 'ensure_all_finite' in 1.6 and will be removed in 1.8.\n",
            "  warnings.warn(\n",
            "/usr/local/lib/python3.11/dist-packages/sklearn/utils/deprecation.py:151: FutureWarning: 'force_all_finite' was renamed to 'ensure_all_finite' in 1.6 and will be removed in 1.8.\n",
            "  warnings.warn(\n",
            "/usr/local/lib/python3.11/dist-packages/sklearn/utils/deprecation.py:151: FutureWarning: 'force_all_finite' was renamed to 'ensure_all_finite' in 1.6 and will be removed in 1.8.\n",
            "  warnings.warn(\n",
            "/usr/local/lib/python3.11/dist-packages/sklearn/utils/deprecation.py:151: FutureWarning: 'force_all_finite' was renamed to 'ensure_all_finite' in 1.6 and will be removed in 1.8.\n",
            "  warnings.warn(\n",
            "/usr/local/lib/python3.11/dist-packages/sklearn/utils/deprecation.py:151: FutureWarning: 'force_all_finite' was renamed to 'ensure_all_finite' in 1.6 and will be removed in 1.8.\n",
            "  warnings.warn(\n",
            "/usr/local/lib/python3.11/dist-packages/sklearn/utils/deprecation.py:151: FutureWarning: 'force_all_finite' was renamed to 'ensure_all_finite' in 1.6 and will be removed in 1.8.\n",
            "  warnings.warn(\n",
            "/usr/local/lib/python3.11/dist-packages/sklearn/utils/deprecation.py:151: FutureWarning: 'force_all_finite' was renamed to 'ensure_all_finite' in 1.6 and will be removed in 1.8.\n",
            "  warnings.warn(\n",
            "Projecting Embeddings:  81%|████████▏ | 200/246 [00:00<00:00, 378.06it/s]/usr/local/lib/python3.11/dist-packages/sklearn/utils/deprecation.py:151: FutureWarning: 'force_all_finite' was renamed to 'ensure_all_finite' in 1.6 and will be removed in 1.8.\n",
            "  warnings.warn(\n",
            "/usr/local/lib/python3.11/dist-packages/sklearn/utils/deprecation.py:151: FutureWarning: 'force_all_finite' was renamed to 'ensure_all_finite' in 1.6 and will be removed in 1.8.\n",
            "  warnings.warn(\n",
            "/usr/local/lib/python3.11/dist-packages/sklearn/utils/deprecation.py:151: FutureWarning: 'force_all_finite' was renamed to 'ensure_all_finite' in 1.6 and will be removed in 1.8.\n",
            "  warnings.warn(\n",
            "/usr/local/lib/python3.11/dist-packages/sklearn/utils/deprecation.py:151: FutureWarning: 'force_all_finite' was renamed to 'ensure_all_finite' in 1.6 and will be removed in 1.8.\n",
            "  warnings.warn(\n",
            "/usr/local/lib/python3.11/dist-packages/sklearn/utils/deprecation.py:151: FutureWarning: 'force_all_finite' was renamed to 'ensure_all_finite' in 1.6 and will be removed in 1.8.\n",
            "  warnings.warn(\n",
            "/usr/local/lib/python3.11/dist-packages/sklearn/utils/deprecation.py:151: FutureWarning: 'force_all_finite' was renamed to 'ensure_all_finite' in 1.6 and will be removed in 1.8.\n",
            "  warnings.warn(\n",
            "/usr/local/lib/python3.11/dist-packages/sklearn/utils/deprecation.py:151: FutureWarning: 'force_all_finite' was renamed to 'ensure_all_finite' in 1.6 and will be removed in 1.8.\n",
            "  warnings.warn(\n",
            "/usr/local/lib/python3.11/dist-packages/sklearn/utils/deprecation.py:151: FutureWarning: 'force_all_finite' was renamed to 'ensure_all_finite' in 1.6 and will be removed in 1.8.\n",
            "  warnings.warn(\n",
            "/usr/local/lib/python3.11/dist-packages/sklearn/utils/deprecation.py:151: FutureWarning: 'force_all_finite' was renamed to 'ensure_all_finite' in 1.6 and will be removed in 1.8.\n",
            "  warnings.warn(\n",
            "/usr/local/lib/python3.11/dist-packages/sklearn/utils/deprecation.py:151: FutureWarning: 'force_all_finite' was renamed to 'ensure_all_finite' in 1.6 and will be removed in 1.8.\n",
            "  warnings.warn(\n",
            "/usr/local/lib/python3.11/dist-packages/sklearn/utils/deprecation.py:151: FutureWarning: 'force_all_finite' was renamed to 'ensure_all_finite' in 1.6 and will be removed in 1.8.\n",
            "  warnings.warn(\n",
            "/usr/local/lib/python3.11/dist-packages/sklearn/utils/deprecation.py:151: FutureWarning: 'force_all_finite' was renamed to 'ensure_all_finite' in 1.6 and will be removed in 1.8.\n",
            "  warnings.warn(\n",
            "/usr/local/lib/python3.11/dist-packages/sklearn/utils/deprecation.py:151: FutureWarning: 'force_all_finite' was renamed to 'ensure_all_finite' in 1.6 and will be removed in 1.8.\n",
            "  warnings.warn(\n",
            "/usr/local/lib/python3.11/dist-packages/sklearn/utils/deprecation.py:151: FutureWarning: 'force_all_finite' was renamed to 'ensure_all_finite' in 1.6 and will be removed in 1.8.\n",
            "  warnings.warn(\n",
            "/usr/local/lib/python3.11/dist-packages/sklearn/utils/deprecation.py:151: FutureWarning: 'force_all_finite' was renamed to 'ensure_all_finite' in 1.6 and will be removed in 1.8.\n",
            "  warnings.warn(\n",
            "/usr/local/lib/python3.11/dist-packages/sklearn/utils/deprecation.py:151: FutureWarning: 'force_all_finite' was renamed to 'ensure_all_finite' in 1.6 and will be removed in 1.8.\n",
            "  warnings.warn(\n",
            "/usr/local/lib/python3.11/dist-packages/sklearn/utils/deprecation.py:151: FutureWarning: 'force_all_finite' was renamed to 'ensure_all_finite' in 1.6 and will be removed in 1.8.\n",
            "  warnings.warn(\n",
            "/usr/local/lib/python3.11/dist-packages/sklearn/utils/deprecation.py:151: FutureWarning: 'force_all_finite' was renamed to 'ensure_all_finite' in 1.6 and will be removed in 1.8.\n",
            "  warnings.warn(\n",
            "/usr/local/lib/python3.11/dist-packages/sklearn/utils/deprecation.py:151: FutureWarning: 'force_all_finite' was renamed to 'ensure_all_finite' in 1.6 and will be removed in 1.8.\n",
            "  warnings.warn(\n",
            "/usr/local/lib/python3.11/dist-packages/sklearn/utils/deprecation.py:151: FutureWarning: 'force_all_finite' was renamed to 'ensure_all_finite' in 1.6 and will be removed in 1.8.\n",
            "  warnings.warn(\n",
            "/usr/local/lib/python3.11/dist-packages/sklearn/utils/deprecation.py:151: FutureWarning: 'force_all_finite' was renamed to 'ensure_all_finite' in 1.6 and will be removed in 1.8.\n",
            "  warnings.warn(\n",
            "/usr/local/lib/python3.11/dist-packages/sklearn/utils/deprecation.py:151: FutureWarning: 'force_all_finite' was renamed to 'ensure_all_finite' in 1.6 and will be removed in 1.8.\n",
            "  warnings.warn(\n",
            "/usr/local/lib/python3.11/dist-packages/sklearn/utils/deprecation.py:151: FutureWarning: 'force_all_finite' was renamed to 'ensure_all_finite' in 1.6 and will be removed in 1.8.\n",
            "  warnings.warn(\n",
            "/usr/local/lib/python3.11/dist-packages/sklearn/utils/deprecation.py:151: FutureWarning: 'force_all_finite' was renamed to 'ensure_all_finite' in 1.6 and will be removed in 1.8.\n",
            "  warnings.warn(\n",
            "/usr/local/lib/python3.11/dist-packages/sklearn/utils/deprecation.py:151: FutureWarning: 'force_all_finite' was renamed to 'ensure_all_finite' in 1.6 and will be removed in 1.8.\n",
            "  warnings.warn(\n",
            "/usr/local/lib/python3.11/dist-packages/sklearn/utils/deprecation.py:151: FutureWarning: 'force_all_finite' was renamed to 'ensure_all_finite' in 1.6 and will be removed in 1.8.\n",
            "  warnings.warn(\n",
            "/usr/local/lib/python3.11/dist-packages/sklearn/utils/deprecation.py:151: FutureWarning: 'force_all_finite' was renamed to 'ensure_all_finite' in 1.6 and will be removed in 1.8.\n",
            "  warnings.warn(\n",
            "/usr/local/lib/python3.11/dist-packages/sklearn/utils/deprecation.py:151: FutureWarning: 'force_all_finite' was renamed to 'ensure_all_finite' in 1.6 and will be removed in 1.8.\n",
            "  warnings.warn(\n",
            "/usr/local/lib/python3.11/dist-packages/sklearn/utils/deprecation.py:151: FutureWarning: 'force_all_finite' was renamed to 'ensure_all_finite' in 1.6 and will be removed in 1.8.\n",
            "  warnings.warn(\n",
            "/usr/local/lib/python3.11/dist-packages/sklearn/utils/deprecation.py:151: FutureWarning: 'force_all_finite' was renamed to 'ensure_all_finite' in 1.6 and will be removed in 1.8.\n",
            "  warnings.warn(\n",
            "/usr/local/lib/python3.11/dist-packages/sklearn/utils/deprecation.py:151: FutureWarning: 'force_all_finite' was renamed to 'ensure_all_finite' in 1.6 and will be removed in 1.8.\n",
            "  warnings.warn(\n",
            "/usr/local/lib/python3.11/dist-packages/sklearn/utils/deprecation.py:151: FutureWarning: 'force_all_finite' was renamed to 'ensure_all_finite' in 1.6 and will be removed in 1.8.\n",
            "  warnings.warn(\n",
            "/usr/local/lib/python3.11/dist-packages/sklearn/utils/deprecation.py:151: FutureWarning: 'force_all_finite' was renamed to 'ensure_all_finite' in 1.6 and will be removed in 1.8.\n",
            "  warnings.warn(\n",
            "/usr/local/lib/python3.11/dist-packages/sklearn/utils/deprecation.py:151: FutureWarning: 'force_all_finite' was renamed to 'ensure_all_finite' in 1.6 and will be removed in 1.8.\n",
            "  warnings.warn(\n",
            "/usr/local/lib/python3.11/dist-packages/sklearn/utils/deprecation.py:151: FutureWarning: 'force_all_finite' was renamed to 'ensure_all_finite' in 1.6 and will be removed in 1.8.\n",
            "  warnings.warn(\n",
            "/usr/local/lib/python3.11/dist-packages/sklearn/utils/deprecation.py:151: FutureWarning: 'force_all_finite' was renamed to 'ensure_all_finite' in 1.6 and will be removed in 1.8.\n",
            "  warnings.warn(\n",
            "/usr/local/lib/python3.11/dist-packages/sklearn/utils/deprecation.py:151: FutureWarning: 'force_all_finite' was renamed to 'ensure_all_finite' in 1.6 and will be removed in 1.8.\n",
            "  warnings.warn(\n",
            "/usr/local/lib/python3.11/dist-packages/sklearn/utils/deprecation.py:151: FutureWarning: 'force_all_finite' was renamed to 'ensure_all_finite' in 1.6 and will be removed in 1.8.\n",
            "  warnings.warn(\n",
            "Projecting Embeddings:  97%|█████████▋| 238/246 [00:00<00:00, 369.65it/s]/usr/local/lib/python3.11/dist-packages/sklearn/utils/deprecation.py:151: FutureWarning: 'force_all_finite' was renamed to 'ensure_all_finite' in 1.6 and will be removed in 1.8.\n",
            "  warnings.warn(\n",
            "/usr/local/lib/python3.11/dist-packages/sklearn/utils/deprecation.py:151: FutureWarning: 'force_all_finite' was renamed to 'ensure_all_finite' in 1.6 and will be removed in 1.8.\n",
            "  warnings.warn(\n",
            "/usr/local/lib/python3.11/dist-packages/sklearn/utils/deprecation.py:151: FutureWarning: 'force_all_finite' was renamed to 'ensure_all_finite' in 1.6 and will be removed in 1.8.\n",
            "  warnings.warn(\n",
            "/usr/local/lib/python3.11/dist-packages/sklearn/utils/deprecation.py:151: FutureWarning: 'force_all_finite' was renamed to 'ensure_all_finite' in 1.6 and will be removed in 1.8.\n",
            "  warnings.warn(\n",
            "/usr/local/lib/python3.11/dist-packages/sklearn/utils/deprecation.py:151: FutureWarning: 'force_all_finite' was renamed to 'ensure_all_finite' in 1.6 and will be removed in 1.8.\n",
            "  warnings.warn(\n",
            "/usr/local/lib/python3.11/dist-packages/sklearn/utils/deprecation.py:151: FutureWarning: 'force_all_finite' was renamed to 'ensure_all_finite' in 1.6 and will be removed in 1.8.\n",
            "  warnings.warn(\n",
            "/usr/local/lib/python3.11/dist-packages/sklearn/utils/deprecation.py:151: FutureWarning: 'force_all_finite' was renamed to 'ensure_all_finite' in 1.6 and will be removed in 1.8.\n",
            "  warnings.warn(\n",
            "/usr/local/lib/python3.11/dist-packages/sklearn/utils/deprecation.py:151: FutureWarning: 'force_all_finite' was renamed to 'ensure_all_finite' in 1.6 and will be removed in 1.8.\n",
            "  warnings.warn(\n",
            "Projecting Embeddings: 100%|██████████| 246/246 [00:00<00:00, 373.16it/s]"
          ]
        },
        {
          "output_type": "stream",
          "name": "stdout",
          "text": [
            "Projected dataset embeddings shape: (246, 2)\n"
          ]
        },
        {
          "output_type": "stream",
          "name": "stderr",
          "text": [
            "\n"
          ]
        }
      ],
      "source": [
        "# Project the entire dataset embeddings\n",
        "projected_dataset_embeddings = project_embeddings(chunk_embeddings, umap_transform)\n",
        "print(\"Projected dataset embeddings shape:\", projected_dataset_embeddings.shape)"
      ]
    },
    {
      "cell_type": "markdown",
      "metadata": {
        "id": "nMv4y1MiLIAC"
      },
      "source": [
        "## 7. Querying the Vector Store and Projecting Results\n",
        "\n",
        "We now define a retrieval function that takes a text query, embeds it, and searches our FAISS index for similar documents. We then project these result embeddings with UMAP.\n",
        "\"\"\""
      ]
    },
    {
      "cell_type": "code",
      "execution_count": null,
      "metadata": {
        "id": "ArGJIaA9LIAC"
      },
      "outputs": [],
      "source": [
        "def retrieve(query, k=5):\n",
        "    \"\"\"\n",
        "    Retrieve the top k similar text chunks and their embeddings for a given query.\n",
        "    \"\"\"\n",
        "    query_embedding = model.encode([query], convert_to_numpy=True)\n",
        "    distances, indices = index.search(query_embedding, k)\n",
        "    retrieved_texts = [token_split_texts[i] for i in indices[0]]\n",
        "    retrieved_embeddings = np.array([chunk_embeddings[i] for i in indices[0]])\n",
        "    return retrieved_texts, retrieved_embeddings, distances[0]"
      ]
    },
    {
      "cell_type": "code",
      "execution_count": null,
      "metadata": {
        "colab": {
          "base_uri": "https://localhost:8080/"
        },
        "id": "Iv3gfn5PLIAD",
        "outputId": "bc0a1272-8248-4822-96ad-501914f37013"
      },
      "outputs": [
        {
          "output_type": "stream",
          "name": "stdout",
          "text": [
            "Retrieved document preview:\n",
            "e Studium Publikationsart Public [...] Schliesslich sei erwähnt, dass generative KI-Systeme bzw. KI-Tools einerseits als Inspirationsquelle und für ein initiales Brainstorming verwendet wurden. Besonders die kritische dialogische Auseinandersetzung mit [...] und seinen Inhalten hat meine Arbeit und \n"
          ]
        }
      ],
      "source": [
        "query = \"KI während der Bachelorarbeit\"\n",
        "results, result_embeddings, distances = retrieve(query, k=3)\n",
        "print(\"Retrieved document preview:\")\n",
        "print(results[0][:300])"
      ]
    },
    {
      "cell_type": "code",
      "execution_count": null,
      "metadata": {
        "colab": {
          "base_uri": "https://localhost:8080/"
        },
        "id": "cryXy0-uLIAD",
        "outputId": "e60d3be1-598b-4825-cdb1-571a1b41306c"
      },
      "outputs": [
        {
          "output_type": "stream",
          "name": "stderr",
          "text": [
            "\rProjecting Embeddings:   0%|          | 0/3 [00:00<?, ?it/s]/usr/local/lib/python3.11/dist-packages/sklearn/utils/deprecation.py:151: FutureWarning: 'force_all_finite' was renamed to 'ensure_all_finite' in 1.6 and will be removed in 1.8.\n",
            "  warnings.warn(\n",
            "/usr/local/lib/python3.11/dist-packages/sklearn/utils/deprecation.py:151: FutureWarning: 'force_all_finite' was renamed to 'ensure_all_finite' in 1.6 and will be removed in 1.8.\n",
            "  warnings.warn(\n",
            "/usr/local/lib/python3.11/dist-packages/sklearn/utils/deprecation.py:151: FutureWarning: 'force_all_finite' was renamed to 'ensure_all_finite' in 1.6 and will be removed in 1.8.\n",
            "  warnings.warn(\n",
            "Projecting Embeddings: 100%|██████████| 3/3 [00:00<00:00, 241.30it/s]\n",
            "Projecting Embeddings:   0%|          | 0/1 [00:00<?, ?it/s]/usr/local/lib/python3.11/dist-packages/sklearn/utils/deprecation.py:151: FutureWarning: 'force_all_finite' was renamed to 'ensure_all_finite' in 1.6 and will be removed in 1.8.\n",
            "  warnings.warn(\n",
            "Projecting Embeddings: 100%|██████████| 1/1 [00:00<00:00, 107.71it/s]\n"
          ]
        }
      ],
      "source": [
        "# Project the result embeddings\n",
        "projected_result_embeddings = project_embeddings(result_embeddings, umap_transform)\n",
        "\n",
        "# Also embed and project the original query for visualization\n",
        "query_embedding = model.encode([query], convert_to_numpy=True)\n",
        "project_original_query = project_embeddings(query_embedding, umap_transform)"
      ]
    },
    {
      "cell_type": "markdown",
      "metadata": {
        "id": "Az2nm4shLIAD"
      },
      "source": [
        "## 8. Visualizing the Results\n",
        "\n",
        "Finally, we create a scatter plot to visualize the entire dataset, the retrieved results, and the original query in 2D space."
      ]
    },
    {
      "cell_type": "code",
      "execution_count": null,
      "metadata": {
        "colab": {
          "base_uri": "https://localhost:8080/",
          "height": 452
        },
        "id": "u5xZIzZ2LIAD",
        "outputId": "8c7d2370-c07b-44b2-e73b-455188d560b8"
      },
      "outputs": [
        {
          "output_type": "display_data",
          "data": {
            "text/plain": [
              "<Figure size 640x480 with 1 Axes>"
            ],
            "image/png": "[encoded data removed]"
          },
          "metadata": {}
        }
      ],
      "source": [
        "\n",
        "def shorten_text(text, max_length=15):\n",
        "    \"\"\"Shortens text to max_length and adds an ellipsis if shortened.\"\"\"\n",
        "    return (text[:max_length] + '...') if len(text) > max_length else text\n",
        "\n",
        "plt.figure()\n",
        "\n",
        "# Scatter plots\n",
        "plt.scatter(projected_dataset_embeddings[:, 0], projected_dataset_embeddings[:, 1],\n",
        "            s=10, color='gray', label='Dataset')\n",
        "plt.scatter(projected_result_embeddings[:, 0], projected_result_embeddings[:, 1],\n",
        "            s=100, facecolors='none', edgecolors='g', label='Results')\n",
        "plt.scatter(project_original_query[:, 0], project_original_query[:, 1],\n",
        "            s=150, marker='X', color='r', label='Original Query')\n",
        "\n",
        "# If results is a list of texts, iterate directly\n",
        "for i, text in enumerate(results):\n",
        "    if i < len(projected_result_embeddings):\n",
        "        plt.annotate(shorten_text(text),\n",
        "                     (projected_result_embeddings[i, 0], projected_result_embeddings[i, 1]),\n",
        "                     fontsize=8)\n",
        "\n",
        "# Annotate the original query point\n",
        "original_query_text = 'Welche hilfsmittel sind erlaubt?'  # Replace with your actual query text if needed\n",
        "original_query_text = 'Wieviele Seiten muss die Arbeit sein?'  # Replace with your actual query text if needed\n",
        "\n",
        "plt.annotate(shorten_text(original_query_text),\n",
        "             (project_original_query[0, 0], project_original_query[0, 1]),\n",
        "             fontsize=8)\n",
        "\n",
        "plt.gca().set_aspect('equal', 'datalim')\n",
        "plt.title('Visualization')\n",
        "plt.legend()\n",
        "plt.show()\n"
      ]
    },
    {
      "cell_type": "markdown",
      "metadata": {
        "id": "jJMk93FYLIAE"
      },
      "source": [
        "---"
      ]
    },
    {
      "cell_type": "markdown",
      "metadata": {
        "id": "RjqQc9y9LIAE"
      },
      "source": [
        "# 📝 Task: Semantic Retrieval-Augmented Question Answering Using Groq LLM\n",
        "\n",
        "## Objective\n",
        "Implement a question-answering system that:\n",
        "1. Retrieves the most semantically relevant text passages to a user query.\n",
        "2. Constructs a natural language prompt based on the retrieved content.\n",
        "3. Uses a large language model (LLM) hosted by Groq to generate an answer.\n",
        "\n",
        "---\n",
        "\n",
        "## Task Breakdown\n",
        "\n",
        "### 1. Embedding-Based Semantic Retrieval\n",
        "- Use the `SentenceTransformer` model `\"Sahajtomar/German-semantic\"` to encode a user query into a dense vector embedding.\n",
        "- Perform a nearest-neighbor search in a prebuilt FAISS index to retrieve the top-**k** similar text chunks. You can **use the prebuilt FAISS form above**.\n",
        "\n",
        "\n",
        "### 2. LLM Prompt Construction and Query Answering\n",
        "- Build the prompt:\n",
        "  - Using the retrieved text chunks, concatenates the results into a context block.\n",
        "  - Builds a **prompt** asking the LLM to answer the question using that context.\n",
        "  - Sends the prompt to the **Groq LLM API** (`llama-3.3-70b-versatile`) and returns the response.\n",
        "\n",
        "### 3. User Query Execution\n",
        "- An example query (`\"What is the most important factor in diagnosing asthma?\"`) is used to demonstrate the pipeline.\n",
        "- The final answer from the LLM is printed.\n",
        "\n",
        "\n",
        "## Tools & Models Used\n",
        "- **SentenceTransformers** (`Sahajtomar/German-semantic`) for embedding generation.\n",
        "- **FAISS** for efficient vector similarity search.\n",
        "- **Groq LLM API** (`llama-3.3-70b-versatile`) for generating the final response.\n"
      ]
    },
    {
      "cell_type": "markdown",
      "source": [
        "## 1. Embedding-Based Semantic Retrieval"
      ],
      "metadata": {
        "id": "CI4Q0Fj3RalL"
      }
    },
    {
      "cell_type": "code",
      "source": [
        "from sentence_transformers import SentenceTransformer\n",
        "import numpy as np\n",
        "\n",
        "# 1. Lade das spezialisierte deutsche Modell\n",
        "model = SentenceTransformer(\"Sahajtomar/German-semantic\")\n",
        "\n",
        "# 2. Benutzerfrage eingeben\n",
        "query = \"Wie funktioniert semantische Vektorsuche?\"\n",
        "\n",
        "# 3. Frage in Embedding umwandeln\n",
        "query_embedding = model.encode(query)\n",
        "\n",
        "# 4. Ähnlichste Chunks im FAISS-Index finden\n",
        "k = 3  # Anzahl der Top-Treffer\n",
        "D, I = index.search(np.array([query_embedding]), k)\n",
        "\n",
        "# 5. Ausgabe der Ergebnisse\n",
        "print(f\"🔍 Top {k} ähnliche Textpassagen zur Frage:\\n\")\n",
        "for idx in I[0]:\n",
        "    print(f\"🔹 Chunk {idx}:\\n{token_split_texts[idx][:500]}...\\n{'-'*60}\")\n"
      ],
      "metadata": {
        "colab": {
          "base_uri": "https://localhost:8080/"
        },
        "id": "T41ITxrmRYJ1",
        "outputId": "c24208f2-2a47-4422-9e00-65ee2fc78c07"
      },
      "execution_count": null,
      "outputs": [
        {
          "output_type": "stream",
          "name": "stdout",
          "text": [
            "🔍 Top 3 ähnliche Textpassagen zur Frage:\n",
            "\n",
            "🔹 Chunk 235:\n",
            "in meiner Arbeit. Andererseits wur- den KI-Tools u.a. für das Recherchieren von Literatur, das Strukturieren der Arbeit in Unterkapitel, das Zusammenfassen von Literatur, das Verstehen von Inhalten, das Formulieren von Texten, oder die Bildgenerierung verwendet. Es kann hierfür auf das spezifische Verzeichnis verwiesen werden....\n",
            "------------------------------------------------------------\n",
            "🔹 Chunk 236:\n",
            "Formulieren von Texten, oder die Bildgenerierung verwendet. Es kann hierfür auf das spezifische Verzeichnis verwiesen werden. − Beispiel 2 (detaillierend bei fehlendem spezifischem Verzeichnis bzw. bei fehlender Möglichkeit, den Verwendungszweck von generativen KI Systemen in Anwendung von Literaturverwaltungsprogrammen im allgemeinen Literaturverzeichnis selbst abzubil- den): Einleitung [...] Schliesslich sei erwähnt, dass generative KI-Systeme bzw. KI-Tools einerseits als In- spirationsquelle ...\n",
            "------------------------------------------------------------\n",
            "🔹 Chunk 229:\n",
            "com/chat − Erstellung von Textvorschlägen − Entwicklung einer Methodologie − Bearbeitung von Daten − Erstellung von Fragebogen − Strukturierungshilfe für Unterteilung der Arbeit o Open AI. (2024). https://openai.com/dall-e-3 − Bildgenerierung o DeepL (2024). DeepL Translator (Version DeepL Pro). https://www.deepl.com/translator − Übersetzen von Textpassagen o Litmaps (2024). Litmaps (Free Version). https://www.litmaps.com − Literaturrecherche III. Die Promp...\n",
            "------------------------------------------------------------\n"
          ]
        }
      ]
    },
    {
      "cell_type": "markdown",
      "source": [
        "## 2. LLM Prompt Construction and Query Answering\n"
      ],
      "metadata": {
        "id": "_T1iA8s43JNh"
      }
    },
    {
      "cell_type": "code",
      "execution_count": null,
      "metadata": {
        "id": "RPHhTkx8LIAF"
      },
      "outputs": [],
      "source": [
        "load_dotenv()\n",
        "# Access the API key using the variable name defined in the .env file\n",
        "groq_api_key = os.getenv(\"GROQ_API_KEY\")"
      ]
    },
    {
      "cell_type": "code",
      "source": [
        "# 1. Groq Client initialisieren (Key muss per .env geladen sein)\n",
        "client = Groq()\n",
        "\n",
        "# 2. Kontext aufbauen – ACHTUNG: token_split_texts statt chunks!\n",
        "retrieved_chunks = [token_split_texts[idx] for idx in I[0]]\n",
        "context = \"\\n---\\n\".join(retrieved_chunks)\n",
        "\n",
        "# 3. Prompt erstellen\n",
        "prompt = f\"\"\"Beantworte die folgende Frage basierend auf dem gegebenen Kontext.\n",
        "\n",
        "Kontext:\n",
        "{context}\n",
        "\n",
        "Frage:\n",
        "{query}\n",
        "\n",
        "Antwort:\"\"\"\n",
        "\n",
        "# 4. Anfrage an Groq stellen\n",
        "response = client.chat.completions.create(\n",
        "    model=\"llama-3.3-70b-versatile\",\n",
        "    messages=[\n",
        "        {\"role\": \"user\", \"content\": prompt}\n",
        "    ]\n",
        ")\n",
        "\n",
        "# 5. Ausgabe\n",
        "print(\"🤖 Groq LLM Antwort:\\n\")\n",
        "print(response.choices[0].message.content.strip())\n"
      ],
      "metadata": {
        "colab": {
          "base_uri": "https://localhost:8080/"
        },
        "id": "6MKvqI_xUq3J",
        "outputId": "51252875-fe53-4636-f5cf-008cf2eea0e0"
      },
      "execution_count": null,
      "outputs": [
        {
          "output_type": "stream",
          "name": "stdout",
          "text": [
            "🤖 Groq LLM Antwort:\n",
            "\n",
            "Die Frage \"Wie funktioniert semantische Vektorsuche?\" wird nicht direkt im Kontext beantwortet. Der Kontext behandelt hauptsächlich die Verwendung von KI-Tools in der Arbeit, wie zum Beispiel die Verwendung von KI-Tools für das Recherchieren von Literatur, das Strukturieren der Arbeit, das Zusammenfassen von Literatur, das Verstehen von Inhalten, das Formulieren von Texten oder die Bildgenerierung.\n",
            "\n",
            "Semantische Vektorsuche ist jedoch ein Konzept, das oft in KI-Systemen und Literaturverwaltungsprogrammen verwendet wird. Im Allgemeinen funktioniert semantische Vektorsuche wie folgt:\n",
            "\n",
            "Bei der semantischen Vektorsuche werden Texte oder Dokumente in Vektoren umgewandelt, die ihre semantischen Bedeutungen repräsentieren. Diese Vektoren werden dann in einem hochdimensionalen Raum dargestellt, in dem ähnliche Konzepte und Bedeutungen nahe beieinander liegen.\n",
            "\n",
            "Wenn eine Suche durchgeführt wird, wird die Suchanfrage ebenfalls in einen Vektor umgewandelt und dann mit den Vektoren der Dokumente verglichen. Die Dokumente, die am ähnlichsten zur Suchanfrage sind, werden dann als Ergebnisse zurückgegeben.\n",
            "\n",
            "Dieser Prozess ermöglicht es, Dokumente und Texte anhand ihrer Bedeutung und nicht nur anhand von Schlüsselwörtern zu suchen. Durch die Verwendung von semantischen Vektoren kann die Suche also effizienter und präziser gestaltet werden.\n",
            "\n",
            "Es ist jedoch zu beachten, dass der Kontext dieser Frage nicht direkt beantwortet, sondern nur allgemeine Informationen über die semantische Vektorsuche liefert.\n"
          ]
        }
      ]
    },
    {
      "cell_type": "markdown",
      "source": [
        "## 3. User Query Execution"
      ],
      "metadata": {
        "id": "lifdNMTZ3TqA"
      }
    },
    {
      "cell_type": "code",
      "source": [
        "# 1. Neue Benutzerfrage eingeben\n",
        "query = \"Was ist der wichtigste Faktor bei der Diagnose von Asthma?\"\n",
        "\n",
        "# 2. Frage in Embedding umwandeln\n",
        "query_embedding = model.encode(query)\n",
        "\n",
        "# 3. Ähnlichste Chunks im FAISS-Index finden\n",
        "k = 3\n",
        "D, I = index.search(np.array([query_embedding]), k)\n",
        "\n",
        "# 4. Kontext aus den Top-k Textstücken bauen (aus token_split_texts!)\n",
        "retrieved_chunks = [token_split_texts[idx] for idx in I[0]]\n",
        "context = \"\\n---\\n\".join(retrieved_chunks)\n",
        "\n",
        "# 5. Prompt bauen\n",
        "prompt = f\"\"\"Beantworte die folgende Frage basierend auf dem gegebenen Kontext.\n",
        "\n",
        "Kontext:\n",
        "{context}\n",
        "\n",
        "Frage:\n",
        "{query}\n",
        "\n",
        "Antwort:\"\"\"\n",
        "\n",
        "# 6. Anfrage an Groq-LLM senden\n",
        "response = client.chat.completions.create(\n",
        "    model=\"llama-3.3-70b-versatile\",\n",
        "    messages=[\n",
        "        {\"role\": \"user\", \"content\": prompt}\n",
        "    ]\n",
        ")\n",
        "\n",
        "# 7. Antwort ausgeben\n",
        "print(\"🤖 Groq LLM Antwort:\\n\")\n",
        "print(response.choices[0].message.content.strip())\n"
      ],
      "metadata": {
        "colab": {
          "base_uri": "https://localhost:8080/"
        },
        "id": "wxm_kvFk3Fgk",
        "outputId": "e2e31c06-0d65-4eb5-81d9-7f4d22da5c1a"
      },
      "execution_count": null,
      "outputs": [
        {
          "output_type": "stream",
          "name": "stdout",
          "text": [
            "🤖 Groq LLM Antwort:\n",
            "\n",
            "Die Frage nach dem wichtigsten Faktor bei der Diagnose von Asthma ist nicht direkt mit dem bereitgestellten Kontext verbunden. Der Kontext behandelt die Anwendung von Sprachtechnologien und KI-Tools in der wissenschaftlichen Arbeit, insbesondere in Bezug auf die kritische Auseinandersetzung mit Inhalten und die Erkennung von Grenzen und möglichen Verzerrungen in erzeugten Inhalten.\n",
            "\n",
            "Um auf die Frage nach dem wichtigsten Faktor bei der Diagnose von Asthma zu antworten, müssten wir uns auf medizinische Erkenntnisse und Diagnosekriterien für Asthma beziehen. Einige der wichtigsten Faktoren bei der Diagnose von Asthma können umfassen:\n",
            "\n",
            "1. **Symptome**: Die Anwesenheit typischer Symptome wie Atemnot, Husten, especially nachts oder bei körperlicher Anstrengung, und Wheezing (Pfeifen oder Gurgeln in der Lunge).\n",
            "2. **Medizinische Geschichte**: Eine Vorgeschichte von Allergien, vorherigen Atemwegserkrankungen oder einer familiären Neigung zu Asthma.\n",
            "3. **Lungenfunktionstests**: Spirometrie und Peak-Flow-Messungen können die Lungenfunktion überprüfen und helfen, die Diagnose zu bestätigen.\n",
            "4. **Provokationstests**: Manchmal werden spezielle Tests durchgeführt, um die Reaktion der Atemwege auf bestimmte Reize zu überprüfen.\n",
            "\n",
            "Es ist wichtig zu betonen, dass die Diagnose von Asthma auf der Grundlage einer umfassenden medizinischen Untersuchung und der Auswertung verschiedener Faktoren erfolgt. Wenn Sie spezifische Fragen zur Diagnose oder Behandlung von Asthma haben, empfehle ich, sich an einen qualifizierten medizinischen Fachmann zu wenden.\n"
          ]
        }
      ]
    }
  ],
  "metadata": {
    "kernelspec": {
      "display_name": "Python 3",
      "name": "python3"
    },
    "language_info": {
      "codemirror_mode": {
        "name": "ipython",
        "version": 3
      },
      "file_extension": ".py",
      "mimetype": "text/x-python",
      "name": "python",
      "nbconvert_exporter": "python",
      "pygments_lexer": "ipython3",
      "version": "3.13.3"
    },
    "colab": {
      "provenance": [],
      "gpuType": "T4",
      "include_colab_link": true
    },
    "accelerator": "GPU"
  },
  "nbformat": 4,
  "nbformat_minor": 0
}